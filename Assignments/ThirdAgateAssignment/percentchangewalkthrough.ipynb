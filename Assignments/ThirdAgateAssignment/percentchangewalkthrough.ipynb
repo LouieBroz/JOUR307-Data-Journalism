{
 "cells": [
  {
   "cell_type": "markdown",
   "metadata": {},
   "source": [
    "# Percent change computation walkthrough\n",
    "In this walkthrough, we're going to learn about computing new columns from existing columns. The ideal test of this is percent change. Percent change is a very common computation in data journalism, so knowing how to do it in Agate is important. As always, you start by importing Agate."
   ]
  },
  {
   "cell_type": "code",
   "execution_count": 1,
   "metadata": {
    "collapsed": true
   },
   "outputs": [],
   "source": [
    "import agate"
   ]
  },
  {
   "cell_type": "markdown",
   "metadata": {},
   "source": [
    "Now get some data. We'll be using [some old UCR data](https://www.dropbox.com/s/b22egk8gdsoyc9e/ucrdata.csv?dl=0) from the FBI that we've used before to demonstrate Excel."
   ]
  },
  {
   "cell_type": "code",
   "execution_count": 2,
   "metadata": {
    "collapsed": true
   },
   "outputs": [],
   "source": [
    "crimes = agate.Table.from_csv('../../Data/ucrdata.csv')"
   ]
  },
  {
   "cell_type": "code",
   "execution_count": 3,
   "metadata": {
    "collapsed": false,
    "scrolled": true
   },
   "outputs": [
    {
     "name": "stdout",
     "output_type": "stream",
     "text": [
      "|-------------------------+---------------|\n",
      "|  column_names           | column_types  |\n",
      "|-------------------------+---------------|\n",
      "|  CleanState             | Text          |\n",
      "|  APStyle                | Text          |\n",
      "|  CleanName              | Text          |\n",
      "|  2012Population         | Number        |\n",
      "|  2012ViolentCrime       | Number        |\n",
      "|  2012Murder             | Number        |\n",
      "|  2012ForcibleRape       | Number        |\n",
      "|  2012Robbery            | Number        |\n",
      "|  2012AggravatedAssault  | Number        |\n",
      "|  2012PropertyCrime      | Number        |\n",
      "|  2012Burglary           | Number        |\n",
      "|  2012LarcenyTheft       | Number        |\n",
      "|  2012MotorVehicleTheft  | Number        |\n",
      "|  2012Arson              | Number        |\n",
      "|  2011Population         | Number        |\n",
      "|  2011ViolentCrime       | Number        |\n",
      "|  2011Murder             | Number        |\n",
      "|  2011Forciblerape       | Number        |\n",
      "|  2011Robbery            | Number        |\n",
      "|  2011AggravatedAssault  | Number        |\n",
      "|  2011PropertyCrime      | Number        |\n",
      "|  2011Burglary           | Number        |\n",
      "|  2011LarcenyTheft       | Number        |\n",
      "|  2011MotorVehicleTheft  | Number        |\n",
      "|  2010Population         | Number        |\n",
      "|  2010ViolentCrimeTotal  | Number        |\n",
      "|  2010Murder             | Number        |\n",
      "|  2010ForcibleRape       | Number        |\n",
      "|  2010Robbery            | Number        |\n",
      "|  2010AggravatedAssault  | Number        |\n",
      "|  2010PropertyCrimeTotal | Number        |\n",
      "|  2010Burglary           | Number        |\n",
      "|  2010LarcenyTheft       | Number        |\n",
      "|  2010MotorVehicleTheft  | Number        |\n",
      "|  2009Population         | Number        |\n",
      "|  2009ViolentCrimeTotal  | Number        |\n",
      "|  2009Murder             | Number        |\n",
      "|  2009Rape               | Number        |\n",
      "|  2009Robbery            | Number        |\n",
      "|  2009AggravatedAssault  | Number        |\n",
      "|  2009PropertyCrimeTotal | Number        |\n",
      "|  2009Burglary           | Number        |\n",
      "|  2009LarcenyTheft       | Number        |\n",
      "|  2009MotorVehicleTheft  | Number        |\n",
      "|-------------------------+---------------|\n",
      "\n"
     ]
    }
   ],
   "source": [
    "print(crimes)"
   ]
  },
  {
   "cell_type": "markdown",
   "metadata": {},
   "source": [
    "So the code for calculating a percent change is really quite easy. It's about the same as calculating a median or a mean. Instead of an aggregate, which works on the whole table column wise, we use compute, which works on the table row wise. Aggregate = single column. Compute = single row. Got it?"
   ]
  },
  {
   "cell_type": "code",
   "execution_count": 4,
   "metadata": {
    "collapsed": false
   },
   "outputs": [
    {
     "ename": "TypeError",
     "evalue": "unsupported operand type(s) for -: 'NoneType' and 'NoneType'",
     "output_type": "error",
     "traceback": [
      "\u001b[0;31m---------------------------------------------------------------------------\u001b[0m",
      "\u001b[0;31mTypeError\u001b[0m                                 Traceback (most recent call last)",
      "\u001b[0;32m<ipython-input-4-4faba6d05326>\u001b[0m in \u001b[0;36m<module>\u001b[0;34m()\u001b[0m\n\u001b[1;32m      1\u001b[0m change1112 = crimes.compute([\n\u001b[1;32m      2\u001b[0m     \u001b[0;34m(\u001b[0m\u001b[0;34m'vc_change_1112'\u001b[0m\u001b[0;34m,\u001b[0m \u001b[0magate\u001b[0m\u001b[0;34m.\u001b[0m\u001b[0mPercentChange\u001b[0m\u001b[0;34m(\u001b[0m\u001b[0;34m'2012ViolentCrime'\u001b[0m\u001b[0;34m,\u001b[0m \u001b[0;34m'2011ViolentCrime'\u001b[0m\u001b[0;34m)\u001b[0m\u001b[0;34m)\u001b[0m\u001b[0;34m,\u001b[0m\u001b[0;34m\u001b[0m\u001b[0m\n\u001b[0;32m----> 3\u001b[0;31m     \u001b[0;34m(\u001b[0m\u001b[0;34m'pc_change_1112'\u001b[0m\u001b[0;34m,\u001b[0m \u001b[0magate\u001b[0m\u001b[0;34m.\u001b[0m\u001b[0mPercentChange\u001b[0m\u001b[0;34m(\u001b[0m\u001b[0;34m'2012PropertyCrime'\u001b[0m\u001b[0;34m,\u001b[0m \u001b[0;34m'2011PropertyCrime'\u001b[0m\u001b[0;34m)\u001b[0m\u001b[0;34m)\u001b[0m\u001b[0;34m\u001b[0m\u001b[0m\n\u001b[0m\u001b[1;32m      4\u001b[0m ])\n",
      "\u001b[0;32m/Users/mattwaite/anaconda/envs/homework/lib/python3.5/site-packages/agate/table.py\u001b[0m in \u001b[0;36mcompute\u001b[0;34m(self, computations)\u001b[0m\n\u001b[1;32m   1019\u001b[0m             \u001b[0mcomputation\u001b[0m\u001b[0;34m.\u001b[0m\u001b[0mvalidate\u001b[0m\u001b[0;34m(\u001b[0m\u001b[0mself\u001b[0m\u001b[0;34m)\u001b[0m\u001b[0;34m\u001b[0m\u001b[0m\n\u001b[1;32m   1020\u001b[0m \u001b[0;34m\u001b[0m\u001b[0m\n\u001b[0;32m-> 1021\u001b[0;31m         \u001b[0mnew_columns\u001b[0m \u001b[0;34m=\u001b[0m \u001b[0mtuple\u001b[0m\u001b[0;34m(\u001b[0m\u001b[0mc\u001b[0m\u001b[0;34m.\u001b[0m\u001b[0mrun\u001b[0m\u001b[0;34m(\u001b[0m\u001b[0mself\u001b[0m\u001b[0;34m)\u001b[0m \u001b[0;32mfor\u001b[0m \u001b[0mn\u001b[0m\u001b[0;34m,\u001b[0m \u001b[0mc\u001b[0m \u001b[0;32min\u001b[0m \u001b[0mcomputations\u001b[0m\u001b[0;34m)\u001b[0m\u001b[0;34m\u001b[0m\u001b[0m\n\u001b[0m\u001b[1;32m   1022\u001b[0m         \u001b[0mnew_rows\u001b[0m \u001b[0;34m=\u001b[0m \u001b[0;34m[\u001b[0m\u001b[0;34m]\u001b[0m\u001b[0;34m\u001b[0m\u001b[0m\n\u001b[1;32m   1023\u001b[0m \u001b[0;34m\u001b[0m\u001b[0m\n",
      "\u001b[0;32m/Users/mattwaite/anaconda/envs/homework/lib/python3.5/site-packages/agate/table.py\u001b[0m in \u001b[0;36m<genexpr>\u001b[0;34m(.0)\u001b[0m\n\u001b[1;32m   1019\u001b[0m             \u001b[0mcomputation\u001b[0m\u001b[0;34m.\u001b[0m\u001b[0mvalidate\u001b[0m\u001b[0;34m(\u001b[0m\u001b[0mself\u001b[0m\u001b[0;34m)\u001b[0m\u001b[0;34m\u001b[0m\u001b[0m\n\u001b[1;32m   1020\u001b[0m \u001b[0;34m\u001b[0m\u001b[0m\n\u001b[0;32m-> 1021\u001b[0;31m         \u001b[0mnew_columns\u001b[0m \u001b[0;34m=\u001b[0m \u001b[0mtuple\u001b[0m\u001b[0;34m(\u001b[0m\u001b[0mc\u001b[0m\u001b[0;34m.\u001b[0m\u001b[0mrun\u001b[0m\u001b[0;34m(\u001b[0m\u001b[0mself\u001b[0m\u001b[0;34m)\u001b[0m \u001b[0;32mfor\u001b[0m \u001b[0mn\u001b[0m\u001b[0;34m,\u001b[0m \u001b[0mc\u001b[0m \u001b[0;32min\u001b[0m \u001b[0mcomputations\u001b[0m\u001b[0;34m)\u001b[0m\u001b[0;34m\u001b[0m\u001b[0m\n\u001b[0m\u001b[1;32m   1022\u001b[0m         \u001b[0mnew_rows\u001b[0m \u001b[0;34m=\u001b[0m \u001b[0;34m[\u001b[0m\u001b[0;34m]\u001b[0m\u001b[0;34m\u001b[0m\u001b[0m\n\u001b[1;32m   1023\u001b[0m \u001b[0;34m\u001b[0m\u001b[0m\n",
      "\u001b[0;32m/Users/mattwaite/anaconda/envs/homework/lib/python3.5/site-packages/agate/computations.py\u001b[0m in \u001b[0;36mrun\u001b[0;34m(self, table)\u001b[0m\n\u001b[1;32m    177\u001b[0m \u001b[0;34m\u001b[0m\u001b[0m\n\u001b[1;32m    178\u001b[0m         \u001b[0;32mfor\u001b[0m \u001b[0mrow\u001b[0m \u001b[0;32min\u001b[0m \u001b[0mtable\u001b[0m\u001b[0;34m.\u001b[0m\u001b[0mrows\u001b[0m\u001b[0;34m:\u001b[0m\u001b[0;34m\u001b[0m\u001b[0m\n\u001b[0;32m--> 179\u001b[0;31m             \u001b[0mnew_column\u001b[0m\u001b[0;34m.\u001b[0m\u001b[0mappend\u001b[0m\u001b[0;34m(\u001b[0m\u001b[0;34m(\u001b[0m\u001b[0mrow\u001b[0m\u001b[0;34m[\u001b[0m\u001b[0mself\u001b[0m\u001b[0;34m.\u001b[0m\u001b[0m_after_column_name\u001b[0m\u001b[0;34m]\u001b[0m \u001b[0;34m-\u001b[0m \u001b[0mrow\u001b[0m\u001b[0;34m[\u001b[0m\u001b[0mself\u001b[0m\u001b[0;34m.\u001b[0m\u001b[0m_before_column_name\u001b[0m\u001b[0;34m]\u001b[0m\u001b[0;34m)\u001b[0m \u001b[0;34m/\u001b[0m \u001b[0mrow\u001b[0m\u001b[0;34m[\u001b[0m\u001b[0mself\u001b[0m\u001b[0;34m.\u001b[0m\u001b[0m_before_column_name\u001b[0m\u001b[0;34m]\u001b[0m \u001b[0;34m*\u001b[0m \u001b[0;36m100\u001b[0m\u001b[0;34m)\u001b[0m\u001b[0;34m\u001b[0m\u001b[0m\n\u001b[0m\u001b[1;32m    180\u001b[0m \u001b[0;34m\u001b[0m\u001b[0m\n\u001b[1;32m    181\u001b[0m         \u001b[0;32mreturn\u001b[0m \u001b[0mnew_column\u001b[0m\u001b[0;34m\u001b[0m\u001b[0m\n",
      "\u001b[0;31mTypeError\u001b[0m: unsupported operand type(s) for -: 'NoneType' and 'NoneType'"
     ]
    }
   ],
   "source": [
    "change1112 = crimes.compute([\n",
    "    ('vc_change_1112', agate.PercentChange('2012ViolentCrime', '2011ViolentCrime')),\n",
    "    ('pc_change_1112', agate.PercentChange('2012PropertyCrime', '2011PropertyCrime'))\n",
    "])"
   ]
  },
  {
   "cell_type": "markdown",
   "metadata": {},
   "source": [
    "Sad trombone. Unsupported operand type errors means you just tried to do something with a thing that doesn't do that. What I mean is you just tried to subtract two nouns, or capitalize a number. In this case, we tried to subtract two null objects. Null is nothing. You cannot subtract nothing from nothing. So we're going to have to filter those out. We've done this before. You have code you can copy and reuse."
   ]
  },
  {
   "cell_type": "code",
   "execution_count": 5,
   "metadata": {
    "collapsed": false
   },
   "outputs": [],
   "source": [
    "changes = crimes.where(lambda row: row['2012ViolentCrime'] != None)"
   ]
  },
  {
   "cell_type": "markdown",
   "metadata": {},
   "source": [
    "Now that we've done that, we can calculate the change in reported violent crime and the reported property crime for each city in our table."
   ]
  },
  {
   "cell_type": "code",
   "execution_count": 6,
   "metadata": {
    "collapsed": true
   },
   "outputs": [],
   "source": [
    "change1112 = changes.compute([\n",
    "    ('vc_change_1112', agate.PercentChange('2011ViolentCrime', '2012ViolentCrime')),\n",
    "    ('pc_change_1112', agate.PercentChange('2011PropertyCrime', '2012PropertyCrime')),\n",
    "])        "
   ]
  },
  {
   "cell_type": "markdown",
   "metadata": {},
   "source": [
    "And let's see what that looks like. "
   ]
  },
  {
   "cell_type": "code",
   "execution_count": 7,
   "metadata": {
    "collapsed": false
   },
   "outputs": [
    {
     "name": "stdout",
     "output_type": "stream",
     "text": [
      "|---------------+---------+--------------+----------------+------------------+------------+------------------+-------------+-----------------------+-------------------+--------------+------------------+-----------------------+-----------+----------------+------------------+------------+------------------+-------------+-----------------------+-------------------+--------------+------------------+-----------------------+----------------+-----------------------+------------+------------------+-------------+-----------------------+------------------------+--------------+------------------+-----------------------+----------------+-----------------------+------------+----------+-------------+-----------------------+------------------------+--------------+------------------+-----------------------+--------------------------------+--------------------------------|\n",
      "|  CleanState   | APStyle | CleanName    | 2012Population | 2012ViolentCrime | 2012Murder | 2012ForcibleRape | 2012Robbery | 2012AggravatedAssault | 2012PropertyCrime | 2012Burglary | 2012LarcenyTheft | 2012MotorVehicleTheft | 2012Arson | 2011Population | 2011ViolentCrime | 2011Murder | 2011Forciblerape | 2011Robbery | 2011AggravatedAssault | 2011PropertyCrime | 2011Burglary | 2011LarcenyTheft | 2011MotorVehicleTheft | 2010Population | 2010ViolentCrimeTotal | 2010Murder | 2010ForcibleRape | 2010Robbery | 2010AggravatedAssault | 2010PropertyCrimeTotal | 2010Burglary | 2010LarcenyTheft | 2010MotorVehicleTheft | 2009Population | 2009ViolentCrimeTotal | 2009Murder | 2009Rape | 2009Robbery | 2009AggravatedAssault | 2009PropertyCrimeTotal | 2009Burglary | 2009LarcenyTheft | 2009MotorVehicleTheft |                 vc_change_1112 |                pc_change_1112  |\n",
      "|---------------+---------+--------------+----------------+------------------+------------+------------------+-------------+-----------------------+-------------------+--------------+------------------+-----------------------+-----------+----------------+------------------+------------+------------------+-------------+-----------------------+-------------------+--------------+------------------+-----------------------+----------------+-----------------------+------------+------------------+-------------+-----------------------+------------------------+--------------+------------------+-----------------------+----------------+-----------------------+------------+----------+-------------+-----------------------+------------------------+--------------+------------------+-----------------------+--------------------------------+--------------------------------|\n",
      "|  Texas        | Texas   | Abilene      |        119,886 |              472 |          3 |               38 |         127 |                   304 |             4,393 |        1,037 |            3,185 |                   171 |        18 |        119,526 |              428 |          5 |               33 |         120 |                   270 |             4,384 |        1,119 |            3,093 |                   172 |        117,063 |                   578 |          4 |               68 |         112 |                   394 |                  4,897 |        1,340 |            3,375 |                   182 |        116,557 |                   658 |          7 |      114 |         137 |                   400 |                  4,830 |        1,301 |            3,267 |                   262 |  10.28037383177570093457943925 |  0.20529197080291970802919708  |\n",
      "|  Ohio         | Ohio    | Akron        |        198,390 |            1,759 |         24 |              167 |         577 |                   991 |            10,034 |        3,429 |            5,884 |                   721 |       103 |        199,256 |            1,779 |         27 |              165 |         718 |                   869 |            10,864 |        4,268 |            5,790 |                   806 |        199,110 |                 1,675 |         23 |              164 |         602 |                   886 |                 10,947 |        4,262 |            5,933 |                   752 |        206,497 |                 1,919 |         20 |      190 |         727 |                   982 |                 10,556 |        3,777 |            5,818 |                   961 |  -1.12422709387296233839235526 | -7.63991163475699558173784978  |\n",
      "|  New Mexico   | N.M.    | Albuquerque  |        553,684 |            4,151 |         41 |              278 |       1,092 |                 2,740 |            29,718 |        6,677 |           20,298 |                 2,743 |        86 |        551,961 |            4,207 |         35 |              264 |         998 |                 2,910 |            27,976 |        5,985 |           19,168 |                 2,823 |        545,852 |                 4,291 |         42 |              338 |         940 |                 2,971 |                 26,372 |        5,465 |           18,134 |                 2,773 |        530,636 |                 4,082 |         56 |      326 |       1,103 |                 2,597 |                 29,140 |        6,376 |           19,365 |                 3,399 |  -1.33111480865224625623960067 |  6.22676579925650557620817844  |\n",
      "|  Virginia     | Va.     | Alexandria   |        145,892 |              243 |          0 |                9 |         138 |                    96 |             2,982 |          281 |            2,375 |                   326 |         8 |        141,638 |              252 |          1 |               14 |         129 |                   108 |             3,181 |          303 |            2,506 |                   372 |        139,966 |                   272 |          2 |               22 |         125 |                   123 |                  3,263 |          317 |            2,658 |                   288 |        146,145 |                   288 |          5 |       12 |         141 |                   130 |                  3,314 |          347 |            2,630 |                   337 |  -3.57142857142857142857142857 | -6.25589437283872995913234832  |\n",
      "|  Pennsylvania | Pa.     | Allentown    |        119,334 |              653 |         15 |               54 |         374 |                   210 |             4,603 |        1,248 |            2,987 |                   368 |        11 |        118,408 |              647 |         10 |               61 |         339 |                   237 |             4,575 |        1,101 |            3,041 |                   433 |        118,032 |                   732 |          9 |               67 |         460 |                   196 |                  5,089 |        1,327 |            3,345 |                   417 |        107,326 |                   749 |         13 |       72 |         474 |                   190 |                  5,270 |        1,414 |            3,385 |                   471 |   0.92735703245749613601236476 |  0.61202185792349726775956284  |\n",
      "|  Texas        | Texas   | Amarillo     |        196,576 |            1,278 |         10 |              109 |         278 |                   881 |             8,895 |        2,085 |            6,181 |                   629 |        54 |        194,708 |            1,223 |         10 |              104 |         235 |                   874 |             9,388 |        2,016 |            6,756 |                   616 |        190,695 |                 1,200 |         10 |              102 |         238 |                   850 |                 11,091 |        2,594 |            7,849 |                   648 |        188,767 |                 1,580 |         10 |       99 |         352 |                 1,119 |                 11,039 |        2,561 |            7,768 |                   710 |   4.49713818479149632052330335 | -5.25138474648487430762675756  |\n",
      "|  New York     | N.Y.    | Amherst Town |        117,591 |               88 |          0 |                7 |          28 |                    53 |             2,261 |          214 |            2,010 |                    37 |         3 |        117,610 |              124 |          0 |                7 |          41 |                    76 |             2,004 |          221 |            1,736 |                    47 |        117,084 |                   119 |          2 |                8 |          33 |                    76 |                  2,066 |          218 |            1,801 |                    47 |        110,399 |                   129 |          1 |        7 |          46 |                    75 |                  2,130 |          238 |            1,844 |                    48 | -29.03225806451612903225806452 | 12.82435129740518962075848303  |\n",
      "|  California   | Calif.  | Anaheim      |        344,526 |            1,279 |         15 |               82 |         440 |                   742 |            10,070 |        1,605 |            7,025 |                 1,440 |        27 |        340,218 |            1,281 |         15 |              105 |         446 |                   715 |             8,493 |        1,410 |            5,964 |                 1,119 |        336,265 |                 1,161 |          7 |               88 |         492 |                   574 |                  8,473 |        1,594 |            5,869 |                 1,010 |        335,970 |                 1,184 |          9 |       72 |         504 |                   599 |                  7,993 |        1,457 |            5,591 |                   945 |  -0.15612802498048399687743950 | 18.56823266219239373601789709  |\n",
      "|  Alaska       | Alaska  | Anchorage    |        299,143 |            2,479 |         15 |              303 |         488 |                 1,673 |            10,543 |        1,158 |            8,554 |                   831 |        97 |        296,955 |            2,388 |         12 |              283 |         465 |                 1,628 |             9,455 |        1,080 |            7,750 |                   625 |        291,826 |                 2,432 |         13 |              264 |         454 |                 1,701 |                 10,214 |        1,223 |            8,178 |                   813 |        283,300 |                 2,488 |         14 |      282 |         534 |                 1,658 |                 10,316 |        1,613 |            7,835 |                   868 |   3.81072026800670016750418760 | 11.50713907985193019566367002  |\n",
      "|  Michigan     | Mich.   | Ann Arbor    |        115,008 |              228 |          1 |               36 |          50 |                   141 |             2,726 |          714 |            1,898 |                   114 |        23 |        113,848 |              261 |          0 |               36 |          59 |                   166 |             2,549 |          534 |            1,918 |                    97 |        113,934 |                   286 |          0 |               44 |          76 |                   166 |                  2,944 |          525 |            2,290 |                   129 |        114,367 |                   266 |          1 |       29 |          60 |                   176 |                  2,943 |          603 |            2,215 |                   125 | -12.64367816091954022988505747 |  6.94389956845821890937622597  |\n",
      "|  ...          | ...     | ...          |            ... |              ... |        ... |              ... |         ... |                   ... |               ... |          ... |              ... |                   ... |       ... |            ... |              ... |        ... |              ... |         ... |                   ... |               ... |          ... |              ... |                   ... |            ... |                   ... |        ... |              ... |         ... |                   ... |                    ... |          ... |              ... |                   ... |            ... |                   ... |        ... |      ... |         ... |                   ... |                    ... |          ... |              ... |                   ... |                            ... |                           ...  |\n",
      "|---------------+---------+--------------+----------------+------------------+------------+------------------+-------------+-----------------------+-------------------+--------------+------------------+-----------------------+-----------+----------------+------------------+------------+------------------+-------------+-----------------------+-------------------+--------------+------------------+-----------------------+----------------+-----------------------+------------+------------------+-------------+-----------------------+------------------------+--------------+------------------+-----------------------+----------------+-----------------------+------------+----------+-------------+-----------------------+------------------------+--------------+------------------+-----------------------+--------------------------------+--------------------------------|\n"
     ]
    }
   ],
   "source": [
    "change1112.print_table(max_rows=10)"
   ]
  },
  {
   "cell_type": "markdown",
   "metadata": {},
   "source": [
    "Oy. That's ugly. There's a handy little trick called select where we can only select the fields from the table we need to go on. In this case, we need a city, a state and the changes in violent crime and property crime. So we're going to create a new table only for the purposes of printing it out. "
   ]
  },
  {
   "cell_type": "code",
   "execution_count": 8,
   "metadata": {
    "collapsed": true
   },
   "outputs": [],
   "source": [
    "for_printing = change1112.select(['CleanName', 'APStyle', 'vc_change_1112', 'pc_change_1112'])"
   ]
  },
  {
   "cell_type": "code",
   "execution_count": 9,
   "metadata": {
    "collapsed": true
   },
   "outputs": [],
   "source": [
    "sorted_cities = for_printing.order_by('vc_change_1112', reverse=True)"
   ]
  },
  {
   "cell_type": "code",
   "execution_count": 10,
   "metadata": {
    "collapsed": false
   },
   "outputs": [
    {
     "name": "stdout",
     "output_type": "stream",
     "text": [
      "|------------------+---------+-------------------------------+--------------------------------|\n",
      "|  CleanName       | APStyle |                vc_change_1112 |                pc_change_1112  |\n",
      "|------------------+---------+-------------------------------+--------------------------------|\n",
      "|  North Las Vegas | Nev.    | 117.0294494238156209987195903 | 91.02519848118743527787366241  |\n",
      "|  Fullerton       | Calif.  |  47.7124183006535947712418301 | 10.90140845070422535211267606  |\n",
      "|  Odessa          | Texas   |  47.4598930481283422459893048 | 18.60242501595405232929164008  |\n",
      "|  Sioux Falls     | S.D.    |  43.4090909090909090909090909 |  7.09581474399830040365413214  |\n",
      "|  Providence      | R.I.    |  38.6780905752753977968176255 | 30.79193310378750614854894245  |\n",
      "|  Green Bay       | Wisc.   |  37.8016085790884718498659517 | 23.05785123966942148760330579  |\n",
      "|  Antioch         | Calif.  |  30.5623471882640586797066015 | 22.82468370772011360702297960  |\n",
      "|  Santa Clarita   | Calif.  |  30.5343511450381679389312977 |  6.77570093457943925233644860  |\n",
      "|  Milwaukee       | Wisc.   |  29.9882727425029318143742670 |  0.43525932817224308070571818  |\n",
      "|  Burbank         | Calif.  |  27.2251308900523560209424084 | -2.42661448140900195694716243  |\n",
      "|  ...             | ...     |                           ... |                           ...  |\n",
      "|------------------+---------+-------------------------------+--------------------------------|\n"
     ]
    }
   ],
   "source": [
    "sorted_cities.print_table(max_rows=10)"
   ]
  },
  {
   "cell_type": "markdown",
   "metadata": {},
   "source": [
    "Much better. Much much better. But, what's wrong with this? It's the percent change in the number, NOT the rate. So in order to calculate the rates, we have to create a formula that does that. To create a formula, you'll use something called Formula, but it will call a function that you'll create. This will seem like a lot, but you'll see pretty quickly that it's pretty straight forward."
   ]
  },
  {
   "cell_type": "code",
   "execution_count": 11,
   "metadata": {
    "collapsed": true
   },
   "outputs": [],
   "source": [
    "def pcvc_rate_12(row):\n",
    "    rate = (row['2012ViolentCrime']/row['2012Population'])*100000\n",
    "    return rate\n",
    "\n",
    "def pcpc_rate_12(row):\n",
    "    rate = (row['2012PropertyCrime']/row['2012Population'])*100000\n",
    "    return rate\n",
    "\n",
    "def pcvc_rate_11(row):\n",
    "    rate = (row['2011ViolentCrime']/row['2011Population'])*100000\n",
    "    return rate\n",
    "\n",
    "def pcpc_rate_11(row):\n",
    "    rate = (row['2011PropertyCrime']/row['2011Population'])*100000\n",
    "    return rate\n",
    "\n",
    "ratechange1112 = changes.compute([\n",
    "    ('vc_rate_11', agate.Formula(agate.Number(), pcvc_rate_11)),\n",
    "    ('vc_rate_12', agate.Formula(agate.Number(), pcvc_rate_12)),\n",
    "    ('pc_rate_11', agate.Formula(agate.Number(), pcpc_rate_11)),\n",
    "    ('pc_rate_12', agate.Formula(agate.Number(), pcvc_rate_12)),\n",
    "])"
   ]
  },
  {
   "cell_type": "markdown",
   "metadata": {},
   "source": [
    "Let's unpack one of the functions. You start any function by defining it -- `def` -- and giving it a name. I've called mine pcvc_rate for per capital violent crime rate and then the year. If your function takes an input -- there's information sent in with it -- then you have to tell it in the parenthesis after the name of your function. In this case, we're just giving the whole row of data to my function so we can use it. \n",
    "\n",
    "Now, inside the function we create something called rate and set it equal to a calculation. This calculation is almost EXACTLY like the Excel formulas you learned, with just a different way of referencing cells. So it says first divide row['2012ViolentCrime'] by the row['2012Population']. See how that's just the row that was passed in (called row) and then we reference WHICH FIELD WE WANT with ['2012Population'] or whatever we need as specified in our print statement earlier. Then, after we've divided those two numbers, we multiply it by 100,000 -- per capita. Then, on the next line, we return the rate. Every function has to return something. \n",
    "\n",
    "All the other functions are just the same thing with small adjustments for year or property crimes. \n",
    "\n",
    "Then, to get those rates, we create a new table called ratechange1112 and, just like our percent change calculations before, we compute new fields using our formulas. The agate.Formula bits go like this: agate.Formula(WHAT WILL THIS RETURN, WHICH FUNCTION ARE YOU USING). So in the agate.Formula parens, we tell it we're going to return an agate.Number(), and which function we are using. Simple.\n",
    "\n",
    "Then, after we've created that new table, we can do our percent change calculations on the rates."
   ]
  },
  {
   "cell_type": "code",
   "execution_count": 12,
   "metadata": {
    "collapsed": false
   },
   "outputs": [],
   "source": [
    "pctratechange1112 = ratechange1112.compute([\n",
    "    ('vcrate_change_1112', agate.PercentChange('vc_rate_11', 'vc_rate_12')),\n",
    "    ('pcrate_change_1112', agate.PercentChange('pc_rate_11', 'pc_rate_12'))\n",
    "])"
   ]
  },
  {
   "cell_type": "code",
   "execution_count": 13,
   "metadata": {
    "collapsed": true
   },
   "outputs": [],
   "source": [
    "for_rate_printing = pctratechange1112.select(['CleanName', 'APStyle', 'vcrate_change_1112', 'pcrate_change_1112'])"
   ]
  },
  {
   "cell_type": "code",
   "execution_count": 14,
   "metadata": {
    "collapsed": true
   },
   "outputs": [],
   "source": [
    "sorted_rate_cities = for_rate_printing.order_by('vcrate_change_1112', reverse=True)"
   ]
  },
  {
   "cell_type": "code",
   "execution_count": 15,
   "metadata": {
    "collapsed": false
   },
   "outputs": [
    {
     "name": "stdout",
     "output_type": "stream",
     "text": [
      "|------------------+---------+-------------------------------+---------------------------------|\n",
      "|  CleanName       | APStyle |            vcrate_change_1112 |             pcrate_change_1112  |\n",
      "|------------------+---------+-------------------------------+---------------------------------|\n",
      "|  North Las Vegas | Nev.    | 114.0031423601369171202513888 | -42.30705758257958844635266321  |\n",
      "|  Fullerton       | Calif.  |  45.8934180969584275393977846 | -87.42439832741710455575895153  |\n",
      "|  Odessa          | Texas   |  45.1946723241198478101750049 | -65.34600673310732413464872252  |\n",
      "|  Sioux Falls     | S.D.    |  41.0599037599302827841418594 | -86.81403066616330477479872145  |\n",
      "|  Providence      | R.I.    |  38.6375510001080715879520038 | -81.42861466353692498977589981  |\n",
      "|  Green Bay       | Wisc.   |  35.7621239875616156959793610 | -79.07468088952046171297508195  |\n",
      "|  Santa Clarita   | Calif.  |  29.9117117279790786682683823 | -86.74576772868749275269224451  |\n",
      "|  Milwaukee       | Wisc.   |  29.5612639936311723356623943 | -74.30470861620811151704260120  |\n",
      "|  Antioch         | Calif.  |  28.7793913857331264724986549 | -72.80104772694818036289597219  |\n",
      "|  Burbank         | Calif.  |  26.6172036152700351596717355 | -90.53468262602090930900301313  |\n",
      "|  ...             | ...     |                           ... |                            ...  |\n",
      "|------------------+---------+-------------------------------+---------------------------------|\n"
     ]
    }
   ],
   "source": [
    "sorted_rate_cities.print_table(max_rows=10)"
   ]
  },
  {
   "cell_type": "markdown",
   "metadata": {},
   "source": [
    "But that still looks uglier than heck to me. How about we clean up those changes and limit the number of decimal places they can print. To do that, we'll have to do a little more than you might think. For technical reasons I won't get into, you can't use Python's round functions. You must use a function inside Decimal called quantize. It works almost exactly like our rate function earlier. You'll create a function, pass in the row, and just attach `.quantize` to the row[''] bits you need. This example is almost straight out of the documentation."
   ]
  },
  {
   "cell_type": "code",
   "execution_count": 16,
   "metadata": {
    "collapsed": false
   },
   "outputs": [],
   "source": [
    "from decimal import Decimal\n",
    "\n",
    "def round_vcchange(row):\n",
    "    return row['vcrate_change_1112'].quantize(Decimal('0.1'))\n",
    "\n",
    "def round_pcchange(row):\n",
    "    return row['pcrate_change_1112'].quantize(Decimal('0.1'))\n",
    "\n",
    "rounded_change = sorted_rate_cities.compute([\n",
    "    ('vc_rounded', agate.Formula(agate.Number(), round_vcchange)),\n",
    "    ('pc_rounded', agate.Formula(agate.Number(), round_pcchange)),\n",
    "])"
   ]
  },
  {
   "cell_type": "code",
   "execution_count": 17,
   "metadata": {
    "collapsed": false
   },
   "outputs": [],
   "source": [
    "for_rate_printing = rounded_change.select(['CleanName', 'APStyle', 'vc_rounded', 'pc_rounded'])"
   ]
  },
  {
   "cell_type": "code",
   "execution_count": 18,
   "metadata": {
    "collapsed": false
   },
   "outputs": [
    {
     "name": "stdout",
     "output_type": "stream",
     "text": [
      "|-------------------------+---------+------------+-------------|\n",
      "|  CleanName              | APStyle | vc_rounded | pc_rounded  |\n",
      "|-------------------------+---------+------------+-------------|\n",
      "|  North Las Vegas        | Nev.    |      114.0 |      -42.3  |\n",
      "|  Fullerton              | Calif.  |       45.9 |      -87.4  |\n",
      "|  Odessa                 | Texas   |       45.2 |      -65.3  |\n",
      "|  Sioux Falls            | S.D.    |       41.1 |      -86.8  |\n",
      "|  Providence             | R.I.    |       38.6 |      -81.4  |\n",
      "|  Green Bay              | Wisc.   |       35.8 |      -79.1  |\n",
      "|  Santa Clarita          | Calif.  |       29.9 |      -86.7  |\n",
      "|  Milwaukee              | Wisc.   |       29.6 |      -74.3  |\n",
      "|  Antioch                | Calif.  |       28.8 |      -72.8  |\n",
      "|  Burbank                | Calif.  |       26.6 |      -90.5  |\n",
      "|  Escondido              | Calif.  |       25.3 |      -80.7  |\n",
      "|  Carlsbad               | Calif.  |       24.7 |      -86.7  |\n",
      "|  Santa Clara            | Calif.  |       23.3 |      -92.6  |\n",
      "|  Surprise               | Ariz.   |       22.0 |      -93.8  |\n",
      "|  Springfield            | Mo.     |       21.5 |      -89.0  |\n",
      "|  Simi Valley            | Calif.  |       20.6 |      -91.8  |\n",
      "|  Bridgeport             | Conn.   |       20.4 |      -68.9  |\n",
      "|  Oakland                | Calif.  |       18.4 |      -62.3  |\n",
      "|  Fort Wayne             | Ind.    |       18.0 |      -89.8  |\n",
      "|  Round Rock             | Texas   |       17.7 |      -94.5  |\n",
      "|  Midland                | Texas   |       16.9 |      -88.1  |\n",
      "|  Flint                  | Mich.   |       16.8 |      -57.8  |\n",
      "|  Billings               | Mont.   |       16.8 |      -92.2  |\n",
      "|  Beaumont               | Texas   |       16.6 |      -81.3  |\n",
      "|  Fontana                | Calif.  |       16.6 |      -80.2  |\n",
      "|  Daly City              | Calif.  |       16.3 |      -88.6  |\n",
      "|  Norwalk                | Calif.  |       16.2 |      -81.0  |\n",
      "|  Oceanside              | Calif.  |       16.0 |      -81.3  |\n",
      "|  Montgomery             | Ala.    |       15.7 |      -92.4  |\n",
      "|  Roseville              | Calif.  |       15.5 |      -91.9  |\n",
      "|  Denton                 | Texas   |       15.5 |      -89.2  |\n",
      "|  Gresham                | Ore.    |       15.5 |      -88.9  |\n",
      "|  Phoenix                | Ariz.   |       15.1 |      -85.6  |\n",
      "|  Westminster            | Colo.   |       14.3 |      -90.0  |\n",
      "|  Sterling Heights       | Mich.   |       14.0 |      -91.3  |\n",
      "|  Evansville             | Ind.    |       13.9 |      -89.8  |\n",
      "|  Thousand Oaks          | Calif.  |       13.7 |      -91.3  |\n",
      "|  Pompano Beach          | Fla.    |       13.6 |      -81.1  |\n",
      "|  Bellevue               | Wash.   |       13.4 |      -95.5  |\n",
      "|  Yonkers                | N.Y.    |       13.3 |      -63.4  |\n",
      "|  Peoria                 | Ill.    |       13.0 |      -83.1  |\n",
      "|  Modesto                | Calif.  |       11.9 |      -82.2  |\n",
      "|  Sunnyvale              | Calif.  |       11.9 |      -91.5  |\n",
      "|  Fayetteville           | N.C.    |       11.5 |      -91.0  |\n",
      "|  Richmond               | Calif.  |       10.8 |      -74.8  |\n",
      "|  Memphis                | Tenn.   |       10.5 |      -73.0  |\n",
      "|  Visalia                | Calif.  |       10.4 |      -89.5  |\n",
      "|  St. Paul               | Minn.   |       10.3 |      -82.6  |\n",
      "|  Tempe                  | Ariz.   |       10.2 |      -90.3  |\n",
      "|  Topeka                 | Kan.    |       10.1 |      -89.8  |\n",
      "|  Huntsville             | Ala.    |       10.1 |      -82.9  |\n",
      "|  Stockton               | Calif.  |       10.0 |      -70.5  |\n",
      "|  Abilene                | Texas   |        9.9 |      -89.3  |\n",
      "|  Pomona                 | Calif.  |        9.6 |      -77.1  |\n",
      "|  Mesquite               | Texas   |        9.5 |      -93.4  |\n",
      "|  Boise                  | Idaho   |        8.9 |      -89.6  |\n",
      "|  Lakewood               | Colo.   |        8.7 |      -89.2  |\n",
      "|  Costa Mesa             | Calif.  |        8.6 |      -92.9  |\n",
      "|  Athens-Clarke County   | Ga.     |        8.6 |      -90.7  |\n",
      "|  San Jose               | Calif.  |        8.4 |      -84.2  |\n",
      "|  Rancho Cucamonga       | Calif.  |        8.2 |      -91.9  |\n",
      "|  Pasadena               | Texas   |        8.2 |      -88.4  |\n",
      "|  Salem                  | Ore.    |        7.7 |      -90.6  |\n",
      "|  Indianapolis           | Ind.    |        7.7 |      -79.0  |\n",
      "|  Greensboro             | N.C.    |        7.7 |      -87.6  |\n",
      "|  Lubbock                | Texas   |        7.7 |      -83.9  |\n",
      "|  Independence           | Mo.     |        7.5 |      -92.0  |\n",
      "|  Lincoln                | Neb.    |        7.3 |      -89.8  |\n",
      "|  New Haven              | Conn.   |        7.0 |      -71.1  |\n",
      "|  Ontario                | Calif.  |        7.0 |      -89.1  |\n",
      "|  Charlotte-Mecklenburg  | N.C.    |        6.8 |      -84.0  |\n",
      "|  San Francisco          | Calif.  |        6.8 |      -82.5  |\n",
      "|  Tacoma                 | Wash.   |        6.7 |      -86.7  |\n",
      "|  San Diego              | Calif.  |        6.6 |      -81.7  |\n",
      "|  Erie                   | Pa.     |        6.4 |      -87.7  |\n",
      "|  Fairfield              | Calif.  |        6.3 |      -84.8  |\n",
      "|  Omaha                  | Neb.    |        6.2 |      -86.9  |\n",
      "|  Everett                | Wash.   |        6.2 |      -93.6  |\n",
      "|  Reno                   | Nev.    |        6.0 |      -82.1  |\n",
      "|  Naperville             | Ill.    |        5.8 |      -94.4  |\n",
      "|  Las Vegas Metropolitan | Nev.    |        5.7 |      -72.4  |\n",
      "|  West Palm Beach        | Fla.    |        5.6 |      -84.9  |\n",
      "|  Port St. Lucie         | Fla.    |        5.5 |      -89.9  |\n",
      "|  Oklahoma City          | Okla.   |        5.5 |      -84.2  |\n",
      "|  Salt Lake City         | Utah    |        5.4 |      -90.0  |\n",
      "|  Syracuse               | N.Y.    |        5.3 |      -74.0  |\n",
      "|  Kansas City            | Mo.     |        5.3 |      -77.2  |\n",
      "|  Spokane                | Wash.   |        5.0 |      -90.9  |\n",
      "|  Murfreesboro           | Tenn.   |        4.8 |      -85.9  |\n",
      "|  Hayward                | Calif.  |        4.8 |      -84.0  |\n",
      "|  Rialto                 | Calif.  |        4.7 |      -83.1  |\n",
      "|  Wichita Falls          | Texas   |        4.7 |      -90.1  |\n",
      "|  Columbus               | Ga.     |        4.5 |      -92.2  |\n",
      "|  Knoxville              | Tenn.   |        4.1 |      -86.3  |\n",
      "|  Buffalo                | N.Y.    |        4.0 |      -76.4  |\n",
      "|  Riverside              | Calif.  |        4.0 |      -85.9  |\n",
      "|  Sacramento             | Calif.  |        3.9 |      -81.2  |\n",
      "|  Paterson               | N.J.    |        3.8 |      -67.3  |\n",
      "|  Amarillo               | Texas   |        3.5 |      -86.5  |\n",
      "|  Cary                   | N.C.    |        3.4 |      -94.7  |\n",
      "|  Killeen                | Texas   |        3.3 |      -83.8  |\n",
      "|  Corpus Christi         | Texas   |        3.3 |      -86.2  |\n",
      "|  Anchorage              | Alaska  |        3.1 |      -74.0  |\n",
      "|  Palmdale               | Calif.  |        2.9 |      -75.3  |\n",
      "|  New Orleans            | La.     |        2.9 |      -79.8  |\n",
      "|  Nashville              | Tenn.   |        2.9 |      -74.5  |\n",
      "|  Corona                 | Calif.  |        2.9 |      -93.9  |\n",
      "|  Berkeley               | Calif.  |        2.8 |      -90.2  |\n",
      "|  Minneapolis            | Minn.   |        2.8 |      -80.1  |\n",
      "|  Miramar                | Fla.    |        2.6 |      -83.6  |\n",
      "|  New York               | N.Y.    |        2.5 |      -62.6  |\n",
      "|  Birmingham             | Ala.    |        2.3 |      -81.9  |\n",
      "|  Torrance               | Calif.  |        2.2 |      -93.2  |\n",
      "|  Bakersfield            | Calif.  |        2.2 |      -87.2  |\n",
      "|  Jackson                | Miss.   |        1.9 |      -87.1  |\n",
      "|  Houston                | Texas   |        1.8 |      -80.4  |\n",
      "|  Dayton                 | Ohio    |        1.8 |      -83.4  |\n",
      "|  Baton Rouge            | La.     |        1.6 |      -80.2  |\n",
      "|  Rochester              | N.Y.    |        1.3 |      -81.2  |\n",
      "|  Glendale               | Ariz.   |        1.3 |      -92.3  |\n",
      "|  Cleveland              | Ohio    |        1.3 |      -78.3  |\n",
      "|  Springfield            | Mass.   |        1.0 |      -78.3  |\n",
      "|  Des Moines             | Iowa    |        0.9 |      -89.9  |\n",
      "|  Hartford               | Conn.   |        0.8 |      -70.0  |\n",
      "|  Manchester             | N.H.    |        0.7 |      -85.2  |\n",
      "|  Lancaster              | Calif.  |        0.5 |      -73.4  |\n",
      "|  Portland               | Ore.    |        0.5 |      -89.8  |\n",
      "|  Garland                | Texas   |        0.4 |      -93.9  |\n",
      "|  Raleigh                | N.C.    |        0.4 |      -86.9  |\n",
      "|  Santa Ana              | Calif.  |        0.3 |      -80.0  |\n",
      "|  Fargo                  | N.D.    |        0.3 |      -85.6  |\n",
      "|  Arlington              | Texas   |        0.2 |      -89.1  |\n",
      "|  Allentown              | Pa.     |        0.1 |      -85.8  |\n",
      "|  Temecula               | Calif.  |       -0.0 |      -96.1  |\n",
      "|  Shreveport             | La.     |       -0.1 |      -83.9  |\n",
      "|  West Covina            | Calif.  |       -0.1 |      -91.4  |\n",
      "|  Seattle                | Wash.   |       -0.2 |      -88.5  |\n",
      "|  Rockford               | Ill.    |       -0.4 |      -70.6  |\n",
      "|  West Valley            | Utah    |       -0.5 |      -89.1  |\n",
      "|  Jacksonville           | Fla.    |       -0.6 |      -85.7  |\n",
      "|  Akron                  | Ohio    |       -0.7 |      -83.7  |\n",
      "|  Detroit                | Mich.   |       -0.7 |      -65.4  |\n",
      "|  Baltimore              | Md.     |       -0.8 |      -70.5  |\n",
      "|  Warren                 | Mich.   |       -0.8 |      -81.5  |\n",
      "|  Dallas                 | Texas   |       -0.9 |      -86.7  |\n",
      "|  Pasadena               | Calif.  |       -0.9 |      -88.3  |\n",
      "|  Tulsa                  | Okla.   |       -1.0 |      -82.1  |\n",
      "|  Winston-Salem          | N.C.    |       -1.0 |      -88.8  |\n",
      "|  Newark                 | N.J.    |       -1.0 |      -68.0  |\n",
      "|  Colorado Springs       | Colo.   |       -1.2 |      -88.4  |\n",
      "|  Boston                 | Mass.   |       -1.2 |      -73.3  |\n",
      "|  Durham                 | N.C.    |       -1.3 |      -85.1  |\n",
      "|  Anaheim                | Calif.  |       -1.4 |      -85.1  |\n",
      "|  Albuquerque            | N.M.    |       -1.6 |      -85.2  |\n",
      "|  Cedar Rapids           | Iowa    |       -1.7 |      -92.8  |\n",
      "|  El Paso                | Texas   |       -1.9 |      -82.8  |\n",
      "|  Miami                  | Fla.    |       -2.1 |      -79.3  |\n",
      "|  Joliet                 | Ill.    |       -2.5 |      -86.9  |\n",
      "|  Provo                  | Utah    |       -2.6 |      -95.0  |\n",
      "|  Victorville            | Calif.  |       -2.6 |      -83.0  |\n",
      "|  Irving                 | Texas   |       -2.8 |      -92.6  |\n",
      "|  Downey                 | Calif.  |       -2.8 |      -90.2  |\n",
      "|  Philadelphia           | Pa.     |       -2.8 |      -70.2  |\n",
      "|  Overland Park          | Kan.    |       -2.8 |      -93.0  |\n",
      "|  Fort Worth             | Texas   |       -2.9 |      -87.4  |\n",
      "|  Peoria                 | Ariz.   |       -3.0 |      -93.9  |\n",
      "|  Richardson             | Texas   |       -3.0 |      -94.0  |\n",
      "|  San Antonio            | Texas   |       -3.1 |      -91.6  |\n",
      "|  Fort Lauderdale        | Fla.    |       -3.2 |      -85.1  |\n",
      "|  Mesa                   | Ariz.   |       -3.2 |      -88.2  |\n",
      "|  Louisville Metro       | Ky.     |       -3.2 |      -87.6  |\n",
      "|  Clarksville            | Tenn.   |       -3.2 |      -79.7  |\n",
      "|  Vallejo                | Calif.  |       -3.3 |      -83.3  |\n",
      "|  Savannah               | Ga.     |       -3.3 |      -91.0  |\n",
      "|  Oxnard                 | Calif.  |       -3.3 |      -82.9  |\n",
      "|  Wichita                | Kan.    |       -3.4 |      -85.3  |\n",
      "|  Worcester              | Mass.   |       -3.4 |      -71.4  |\n",
      "|  Garden Grove           | Calif.  |       -3.4 |      -87.2  |\n",
      "|  Virginia Beach         | Va.     |       -3.7 |      -93.8  |\n",
      "|  Atlanta                | Ga.     |       -3.8 |      -80.5  |\n",
      "|  Inglewood              | Calif.  |       -3.9 |      -69.9  |\n",
      "|  Jersey City            | N.J.    |       -4.3 |      -68.0  |\n",
      "|  St. Louis              | Mo.     |       -4.3 |      -77.8  |\n",
      "|  Hollywood              | Fla.    |       -4.3 |      -91.9  |\n",
      "|  Santa Maria            | Calif.  |       -4.6 |      -71.9  |\n",
      "|  Coral Springs          | Fla.    |       -4.7 |      -92.6  |\n",
      "|  Pueblo                 | Colo.   |       -4.8 |      -85.6  |\n",
      "|  Centennial             | Colo.   |       -4.9 |      -88.6  |\n",
      "|  Austin                 | Texas   |       -4.9 |      -92.2  |\n",
      "|  Arvada                 | Colo.   |       -5.0 |      -94.0  |\n",
      "|  Orlando                | Fla.    |       -5.2 |      -85.7  |\n",
      "|  Moreno Valley          | Calif.  |       -5.5 |      -88.0  |\n",
      "|  Cincinnati             | Ohio    |       -5.6 |      -85.8  |\n",
      "|  Tallahassee            | Fla.    |       -5.6 |      -83.3  |\n",
      "|  Ventura                | Calif.  |       -5.6 |      -90.7  |\n",
      "|  Long Beach             | Calif.  |       -5.7 |      -79.0  |\n",
      "|  Tampa                  | Fla.    |       -5.9 |      -79.8  |\n",
      "|  Richmond               | Va.     |       -6.1 |      -84.5  |\n",
      "|  Denver                 | Colo.   |       -6.1 |      -84.5  |\n",
      "|  Pittsburgh             | Pa.     |       -6.3 |      -76.9  |\n",
      "|  Alexandria             | Va.     |       -6.4 |      -92.6  |\n",
      "|  Aurora                 | Colo.   |       -6.5 |      -86.3  |\n",
      "|  El Monte               | Calif.  |       -6.6 |      -82.8  |\n",
      "|  Eugene                 | Ore.    |       -6.6 |      -94.5  |\n",
      "|  Brownsville            | Texas   |       -6.7 |      -94.3  |\n",
      "|  Fresno                 | Calif.  |       -6.8 |      -89.3  |\n",
      "|  West Jordan            | Utah    |       -6.9 |      -93.3  |\n",
      "|  Santa Rosa             | Calif.  |       -7.3 |      -82.9  |\n",
      "|  Chesapeake             | Va.     |       -7.4 |      -88.5  |\n",
      "|  Gainesville            | Fla.    |       -7.4 |      -84.2  |\n",
      "|  Kansas City            | Kan.    |       -7.6 |      -88.9  |\n",
      "|  Concord                | Calif.  |       -7.8 |      -89.6  |\n",
      "|  Hampton                | Va.     |       -7.8 |      -93.9  |\n",
      "|  Los Angeles            | Calif.  |       -7.9 |      -78.6  |\n",
      "|  Hialeah                | Fla.    |       -8.0 |      -89.4  |\n",
      "|  Palm Bay               | Fla.    |       -8.0 |      -79.8  |\n",
      "|  Wilmington             | N.C.    |       -8.3 |      -89.4  |\n",
      "|  Davenport              | Iowa    |       -8.3 |      -87.8  |\n",
      "|  High Point             | N.C.    |       -8.3 |      -89.1  |\n",
      "|  Lansing                | Mich.   |       -8.4 |      -75.0  |\n",
      "|  Lafayette              | La.     |       -8.4 |      -88.1  |\n",
      "|  Waterbury              | Conn.   |       -8.6 |      -92.8  |\n",
      "|  McKinney               | Texas   |       -8.7 |      -92.2  |\n",
      "|  Chandler               | Ariz.   |       -9.0 |      -91.6  |\n",
      "|  Fort Collins           | Colo.   |       -9.0 |      -91.1  |\n",
      "|  Laredo                 | Texas   |       -9.2 |      -90.2  |\n",
      "|  Salinas                | Calif.  |       -9.2 |      -77.5  |\n",
      "|  Clearwater             | Fla.    |       -9.3 |      -82.4  |\n",
      "|  Vancouver              | Wash.   |       -9.3 |      -91.1  |\n",
      "|  Irvine                 | Calif.  |       -9.5 |      -96.7  |\n",
      "|  Glendale               | Calif.  |      -10.1 |      -93.3  |\n",
      "|  Newport News           | Va.     |      -10.4 |      -87.5  |\n",
      "|  Norman                 | Okla.   |      -10.9 |      -95.1  |\n",
      "|  Elgin                  | Ill.    |      -11.0 |      -87.6  |\n",
      "|  Stamford               | Conn.   |      -11.0 |      -82.6  |\n",
      "|  Cambridge              | Mass.   |      -11.0 |      -86.5  |\n",
      "|  Springfield            | Ill.    |      -11.4 |      -84.2  |\n",
      "|  St. Petersburg         | Fla.    |      -11.7 |      -82.5  |\n",
      "|  Little Rock            | Ark.    |      -11.7 |      -83.5  |\n",
      "|  Aurora                 | Ill.    |      -12.0 |      -85.4  |\n",
      "|  Norfolk                | Va.     |      -12.1 |      -89.8  |\n",
      "|  Ann Arbor              | Mich.   |      -13.5 |      -91.1  |\n",
      "|  Chula Vista            | Calif.  |      -14.3 |      -88.5  |\n",
      "|  Carrollton             | Texas   |      -14.6 |      -94.7  |\n",
      "|  Edison Township        | N.J.    |      -14.7 |      -93.4  |\n",
      "|  Orange                 | Calif.  |      -15.0 |      -95.0  |\n",
      "|  South Bend             | Ind.    |      -16.2 |      -89.8  |\n",
      "|  Olathe                 | Kan.    |      -16.7 |      -91.5  |\n",
      "|  Grand Prairie          | Texas   |      -16.8 |      -92.9  |\n",
      "|  Waco                   | Texas   |      -17.9 |      -90.2  |\n",
      "|  Scottsdale             | Ariz.   |      -18.6 |      -95.2  |\n",
      "|  Mobile                 | Ala.    |      -18.7 |      -90.4  |\n",
      "|  Columbia               | Mo.     |      -19.5 |      -89.0  |\n",
      "|  Plano                  | Texas   |      -19.6 |      -94.9  |\n",
      "|  Frisco                 | Texas   |      -20.5 |      -96.1  |\n",
      "|  Fremont                | Calif.  |      -21.2 |      -92.3  |\n",
      "|  Lexington              | Ky.     |      -22.5 |      -91.5  |\n",
      "|  Henderson              | Nev.    |      -23.1 |      -90.8  |\n",
      "|  Huntington Beach       | Calif.  |      -23.9 |      -93.3  |\n",
      "|  Elizabeth              | N.J.    |      -24.0 |      -80.4  |\n",
      "|  Pembroke Pines         | Fla.    |      -24.6 |      -95.3  |\n",
      "|  Murrieta               | Calif.  |      -26.3 |      -94.8  |\n",
      "|  Charleston             | S.C.    |      -27.3 |      -92.3  |\n",
      "|  Lowell                 | Mass.   |      -27.3 |      -81.4  |\n",
      "|  Amherst Town           | N.Y.    |      -29.0 |      -95.6  |\n",
      "|  El Cajon               | Calif.  |      -31.8 |      -85.4  |\n",
      "|  McAllen                | Texas   |      -34.1 |      -97.2  |\n",
      "|  Thornton               | Colo.   |      -58.1 |      -91.5  |\n",
      "|-------------------------+---------+------------+-------------|\n"
     ]
    }
   ],
   "source": [
    "for_rate_printing.print_table()"
   ]
  },
  {
   "cell_type": "markdown",
   "metadata": {},
   "source": [
    "# Assignment\n",
    "This is an assignment I've given to 202 and 302 students with Excel. If you've taken a class with me, or been in 302 when I was there, you've done this before in Excel. Now you're going to do it with Agate.\n",
    "\n",
    "1. Download [this dataset of population estimates](https://www.dropbox.com/s/p5isgdfgpam7w13/population.csv?dl=0) from the US Census Bureau. \n",
    "2. Calculate the percent change in population for every county in the US from 2010 to 2014. \n",
    "3. Round that change off to a single decimal point. \n",
    "4. Sort it fastest growing to fastest shrinking. Print it to the screen but limit it to 50.\n",
    "\n",
    "After you've done that, submit it to Blackboard and enjoy this NYTimes story about [the end of the North Dakota oil boom](http://www.nytimes.com/2016/02/08/us/built-up-by-oil-boom-north-dakota-now-has-an-emptier-feeling.html)."
   ]
  },
  {
   "cell_type": "code",
   "execution_count": null,
   "metadata": {
    "collapsed": true
   },
   "outputs": [],
   "source": []
  }
 ],
 "metadata": {
  "kernelspec": {
   "display_name": "Python 3",
   "language": "python",
   "name": "python3"
  },
  "language_info": {
   "codemirror_mode": {
    "name": "ipython",
    "version": 3
   },
   "file_extension": ".py",
   "mimetype": "text/x-python",
   "name": "python",
   "nbconvert_exporter": "python",
   "pygments_lexer": "ipython3",
   "version": "3.5.1"
  }
 },
 "nbformat": 4,
 "nbformat_minor": 0
}
