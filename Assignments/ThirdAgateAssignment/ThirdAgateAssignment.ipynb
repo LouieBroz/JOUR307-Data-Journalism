{
 "cells": [
  {
   "cell_type": "markdown",
   "metadata": {},
   "source": [
    "# County Population Estimates\n",
    "Here we will import county population estimates from the Census Bureau, calculate the percent change in population from 2010-2014 and print out the 50 fastest growing counties.\n",
    "\n",
    "Of course, we first import Agate and get the data."
   ]
  },
  {
   "cell_type": "code",
   "execution_count": 1,
   "metadata": {
    "collapsed": true
   },
   "outputs": [],
   "source": [
    "import agate"
   ]
  },
  {
   "cell_type": "code",
   "execution_count": 2,
   "metadata": {
    "collapsed": true
   },
   "outputs": [],
   "source": [
    "counties = agate.Table.from_csv('../../Data/population.csv')"
   ]
  },
  {
   "cell_type": "code",
   "execution_count": 3,
   "metadata": {
    "collapsed": false
   },
   "outputs": [
    {
     "name": "stdout",
     "output_type": "stream",
     "text": [
      "|------------------+---------------|\n",
      "|  column_names    | column_types  |\n",
      "|------------------+---------------|\n",
      "|  STNAME          | Text          |\n",
      "|  CTYNAME         | Text          |\n",
      "|  POPESTIMATE2010 | Number        |\n",
      "|  POPESTIMATE2011 | Number        |\n",
      "|  POPESTIMATE2012 | Number        |\n",
      "|  POPESTIMATE2013 | Number        |\n",
      "|  POPESTIMATE2014 | Number        |\n",
      "|------------------+---------------|\n",
      "\n"
     ]
    }
   ],
   "source": [
    "print(counties)"
   ]
  },
  {
   "cell_type": "markdown",
   "metadata": {},
   "source": [
    "Here we must add a column that calculates the percent change. Remember: The first argument in the PercentChange computation is the old value. The second value is the new value."
   ]
  },
  {
   "cell_type": "code",
   "execution_count": 4,
   "metadata": {
    "collapsed": true
   },
   "outputs": [],
   "source": [
    "popchange1012 = counties.compute([\n",
    "    ('change', agate.PercentChange('POPESTIMATE2010', 'POPESTIMATE2014'))\n",
    "])"
   ]
  },
  {
   "cell_type": "markdown",
   "metadata": {},
   "source": [
    "Now we round it because Agate likes to create huge numbers of significant digits. "
   ]
  },
  {
   "cell_type": "code",
   "execution_count": 5,
   "metadata": {
    "collapsed": false
   },
   "outputs": [],
   "source": [
    "from decimal import Decimal\n",
    "\n",
    "def round_change(row):\n",
    "    return row['change'].quantize(Decimal('0.1'))\n",
    "\n",
    "rounded_change = popchange1012.compute([\n",
    "    ('change_rounded', agate.Formula(agate.Number(), round_change))\n",
    "])"
   ]
  },
  {
   "cell_type": "markdown",
   "metadata": {},
   "source": [
    "Now we sort it."
   ]
  },
  {
   "cell_type": "code",
   "execution_count": 6,
   "metadata": {
    "collapsed": true
   },
   "outputs": [],
   "source": [
    "sorted_counties = rounded_change.order_by('change', reverse=True)"
   ]
  },
  {
   "cell_type": "markdown",
   "metadata": {},
   "source": [
    "Now let's just select the fields we want to see."
   ]
  },
  {
   "cell_type": "code",
   "execution_count": 7,
   "metadata": {
    "collapsed": true
   },
   "outputs": [],
   "source": [
    "for_printing = sorted_counties.select(['CTYNAME', 'STNAME', 'change_rounded'])"
   ]
  },
  {
   "cell_type": "markdown",
   "metadata": {},
   "source": [
    "Now with rounded percent changes, sorted fastest growing to fastest shrinking, and with extra columns trimmed, let's print the 50 fastest growing counties in the US. "
   ]
  },
  {
   "cell_type": "code",
   "execution_count": 8,
   "metadata": {
    "collapsed": false
   },
   "outputs": [
    {
     "name": "stdout",
     "output_type": "stream",
     "text": [
      "|----------------------+--------------+-----------------|\n",
      "|  CTYNAME             | STNAME       | change_rounded  |\n",
      "|----------------------+--------------+-----------------|\n",
      "|  McKenzie County     | North Dakota |           71.9  |\n",
      "|  Williams County     | North Dakota |           42.3  |\n",
      "|  Mountrail County    | North Dakota |           26.6  |\n",
      "|  Stark County        | North Dakota |           24.7  |\n",
      "|  Dunn County         | North Dakota |           24.2  |\n",
      "|  Sumter County       | Florida      |           21.3  |\n",
      "|  St. Bernard Parish  | Louisiana    |           20.7  |\n",
      "|  Richland County     | Montana      |           18.9  |\n",
      "|  Andrews County      | Texas        |           17.8  |\n",
      "|  Sterling County     | Texas        |           17.8  |\n",
      "|  Divide County       | North Dakota |           17.3  |\n",
      "|  Fredericksburg city | Virginia     |           17.2  |\n",
      "|  Wasatch County      | Utah         |           17.1  |\n",
      "|  Hays County         | Texas        |           16.9  |\n",
      "|  Billings County     | North Dakota |           16.9  |\n",
      "|  Long County         | Georgia      |           16.6  |\n",
      "|  Dallas County       | Iowa         |           16.1  |\n",
      "|  Fort Bend County    | Texas        |           16.0  |\n",
      "|  Forsyth County      | Georgia      |           15.6  |\n",
      "|  Kendall County      | Texas        |           15.5  |\n",
      "|  Loudoun County      | Virginia     |           15.1  |\n",
      "|  Osceola County      | Florida      |           15.0  |\n",
      "|  Williamson County   | Texas        |           14.7  |\n",
      "|  Burke County        | North Dakota |           14.2  |\n",
      "|  Lincoln County      | South Dakota |           14.2  |\n",
      "|  St. Johns County    | Florida      |           13.9  |\n",
      "|  Midland County      | Texas        |           13.8  |\n",
      "|  Uintah County       | Utah         |           13.7  |\n",
      "|  Martin County       | Texas        |           13.3  |\n",
      "|  Comal County        | Texas        |           13.2  |\n",
      "|  Crane County        | Texas        |           13.1  |\n",
      "|  McMullen County     | Texas        |           13.1  |\n",
      "|  Denton County       | Texas        |           13.0  |\n",
      "|  Montgomery County   | Texas        |           13.0  |\n",
      "|  Collin County       | Texas        |           12.3  |\n",
      "|  Ector County        | Texas        |           12.3  |\n",
      "|  Reagan County       | Texas        |           12.1  |\n",
      "|  Greenlee County     | Arizona      |           12.0  |\n",
      "|  Russell County      | Alabama      |           11.9  |\n",
      "|  Ward County         | North Dakota |           11.7  |\n",
      "|  Travis County       | Texas        |           11.7  |\n",
      "|  Bryan County        | Georgia      |           11.5  |\n",
      "|  Williamson County   | Tennessee    |           11.5  |\n",
      "|  Columbia County     | Georgia      |           11.4  |\n",
      "|  Morgan County       | Utah         |           11.4  |\n",
      "|  Wibaux County       | Montana      |           11.4  |\n",
      "|  Canadian County     | Oklahoma     |           11.4  |\n",
      "|  Walton County       | Florida      |           11.4  |\n",
      "|  Lafayette County    | Mississippi  |           11.3  |\n",
      "|  Rockwall County     | Texas        |           11.2  |\n",
      "|  ...                 | ...          |            ...  |\n",
      "|----------------------+--------------+-----------------|\n"
     ]
    }
   ],
   "source": [
    "for_printing.print_table(max_rows=50)"
   ]
  },
  {
   "cell_type": "code",
   "execution_count": null,
   "metadata": {
    "collapsed": true
   },
   "outputs": [],
   "source": []
  }
 ],
 "metadata": {
  "kernelspec": {
   "display_name": "Python 3",
   "language": "python",
   "name": "python3"
  },
  "language_info": {
   "codemirror_mode": {
    "name": "ipython",
    "version": 3
   },
   "file_extension": ".py",
   "mimetype": "text/x-python",
   "name": "python",
   "nbconvert_exporter": "python",
   "pygments_lexer": "ipython3",
   "version": "3.5.1"
  }
 },
 "nbformat": 4,
 "nbformat_minor": 0
}
