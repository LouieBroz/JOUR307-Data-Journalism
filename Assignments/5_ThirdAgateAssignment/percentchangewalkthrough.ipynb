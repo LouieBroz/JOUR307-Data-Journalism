{
 "cells": [
  {
   "cell_type": "markdown",
   "metadata": {},
   "source": [
    "# Percent change computation walkthrough\n",
    "In this walkthrough, we're going to learn about computing new columns from existing columns. The ideal test of this is percent change. Percent change is a very common computation in data journalism, so knowing how to do it in Agate is important. As always, you start by importing Agate."
   ]
  },
  {
   "cell_type": "code",
   "execution_count": 4,
   "metadata": {
    "collapsed": true
   },
   "outputs": [],
   "source": [
    "import warnings\n",
    "warnings.filterwarnings('ignore')"
   ]
  },
  {
   "cell_type": "code",
   "execution_count": 5,
   "metadata": {},
   "outputs": [],
   "source": [
    "import agate"
   ]
  },
  {
   "cell_type": "markdown",
   "metadata": {},
   "source": [
    "Now get some data. We'll be using [county population estimates](https://www.dropbox.com/s/0n2ns9c90qjg2ch/population.csv?dl=0) from the Census Bureau."
   ]
  },
  {
   "cell_type": "code",
   "execution_count": 6,
   "metadata": {
    "collapsed": true
   },
   "outputs": [],
   "source": [
    "counties = agate.Table.from_csv('../../Data/population.csv')"
   ]
  },
  {
   "cell_type": "code",
   "execution_count": 7,
   "metadata": {
    "scrolled": true
   },
   "outputs": [
    {
     "name": "stdout",
     "output_type": "stream",
     "text": [
      "| column          | data_type |\n",
      "| --------------- | --------- |\n",
      "| STNAME          | Text      |\n",
      "| CTYNAME         | Text      |\n",
      "| POPESTIMATE2010 | Number    |\n",
      "| POPESTIMATE2011 | Number    |\n",
      "| POPESTIMATE2012 | Number    |\n",
      "| POPESTIMATE2013 | Number    |\n",
      "| POPESTIMATE2014 | Number    |\n",
      "| POPESTIMATE2015 | Number    |\n",
      "| POPESTIMATE2016 | Number    |\n",
      "\n"
     ]
    }
   ],
   "source": [
    "print(counties)"
   ]
  },
  {
   "cell_type": "markdown",
   "metadata": {},
   "source": [
    "So the code for calculating a percent change is really quite easy. It's about the same as calculating a median or a mean. Instead of an aggregate, which works on the whole table column wise, we use compute, which works on the table row wise. Aggregate = single column. Compute = single row. Got it?"
   ]
  },
  {
   "cell_type": "code",
   "execution_count": 13,
   "metadata": {
    "collapsed": true
   },
   "outputs": [],
   "source": [
    "change = counties.compute([\n",
    "    ('change10-16', agate.PercentChange('POPESTIMATE2010', 'POPESTIMATE2016')),\n",
    "    ('change15-16', agate.PercentChange('POPESTIMATE2015', 'POPESTIMATE2016'))\n",
    "])"
   ]
  },
  {
   "cell_type": "markdown",
   "metadata": {},
   "source": [
    "And let's see what that looks like. "
   ]
  },
  {
   "cell_type": "code",
   "execution_count": 14,
   "metadata": {},
   "outputs": [
    {
     "name": "stdout",
     "output_type": "stream",
     "text": [
      "| STNAME  | CTYNAME         | POPESTIMATE2010 | POPESTIMATE2011 | POPESTIMATE2012 | POPESTIMATE2013 | ... |\n",
      "| ------- | --------------- | --------------- | --------------- | --------------- | --------------- | --- |\n",
      "| Alabama | Autauga County  |          54,742 |          55,255 |          55,027 |          54,792 | ... |\n",
      "| Alabama | Baldwin County  |         183,199 |         186,653 |         190,403 |         195,147 | ... |\n",
      "| Alabama | Barbour County  |          27,348 |          27,326 |          27,132 |          26,938 | ... |\n",
      "| Alabama | Bibb County     |          22,861 |          22,736 |          22,645 |          22,501 | ... |\n",
      "| Alabama | Blount County   |          57,376 |          57,707 |          57,772 |          57,746 | ... |\n",
      "| Alabama | Bullock County  |          10,892 |          10,722 |          10,654 |          10,576 | ... |\n",
      "| Alabama | Butler County   |          20,938 |          20,848 |          20,665 |          20,330 | ... |\n",
      "| Alabama | Calhoun County  |         118,468 |         117,736 |         117,208 |         116,475 | ... |\n",
      "| Alabama | Chambers County |          34,101 |          34,006 |          34,084 |          34,123 | ... |\n",
      "| Alabama | Cherokee County |          25,977 |          26,073 |          26,017 |          26,074 | ... |\n",
      "| ...     | ...             |             ... |             ... |             ... |             ... | ... |\n"
     ]
    }
   ],
   "source": [
    "change.print_table(max_rows=10)"
   ]
  },
  {
   "cell_type": "markdown",
   "metadata": {},
   "source": [
    "Oy. That's ugly. There's a handy little trick called select where we can only select the fields from the table we need to go on. In this case, we need a city, a state and the changes in violent crime and property crime. So we're going to create a new table only for the purposes of printing it out. "
   ]
  },
  {
   "cell_type": "code",
   "execution_count": 15,
   "metadata": {
    "collapsed": true
   },
   "outputs": [],
   "source": [
    "for_printing = change.select(['STNAME', 'CTYNAME', 'change10-16', 'change15-16'])"
   ]
  },
  {
   "cell_type": "code",
   "execution_count": 16,
   "metadata": {},
   "outputs": [
    {
     "name": "stdout",
     "output_type": "stream",
     "text": [
      "| STNAME  | CTYNAME         | change10-16 | change15-16 |\n",
      "| ------- | --------------- | ----------- | ----------- |\n",
      "| Alabama | Autauga County  |      1.231… |      0.692… |\n",
      "| Alabama | Baldwin County  |     13.845… |      2.392… |\n",
      "| Alabama | Barbour County  |     -5.057… |     -1.161… |\n",
      "| Alabama | Bibb County     |     -0.954… |      0.363… |\n",
      "| Alabama | Blount County   |      0.572… |      0.049… |\n",
      "| Alabama | Bullock County  |     -4.866… |     -0.890… |\n",
      "| Alabama | Butler County   |     -4.489… |     -0.636… |\n",
      "| Alabama | Calhoun County  |     -3.256… |     -0.585… |\n",
      "| Alabama | Chambers County |     -0.757… |     -0.587… |\n",
      "| Alabama | Cherokee County |     -0.970… |     -0.004… |\n",
      "| ...     | ...             |         ... |         ... |\n"
     ]
    }
   ],
   "source": [
    "for_printing.print_table(max_rows=10)"
   ]
  },
  {
   "cell_type": "markdown",
   "metadata": {},
   "source": [
    "Better. But lets sort things so it's more interesting."
   ]
  },
  {
   "cell_type": "code",
   "execution_count": 17,
   "metadata": {},
   "outputs": [],
   "source": [
    "sorted_counties = for_printing.order_by('change10-16', reverse=True)"
   ]
  },
  {
   "cell_type": "code",
   "execution_count": 18,
   "metadata": {},
   "outputs": [
    {
     "name": "stdout",
     "output_type": "stream",
     "text": [
      "| STNAME       | CTYNAME            | change10-16 | change15-16 |\n",
      "| ------------ | ------------------ | ----------- | ----------- |\n",
      "| North Dakota | McKenzie County    |     97.265… |     -1.337… |\n",
      "| North Dakota | Williams County    |     52.028… |     -2.967… |\n",
      "| Texas        | Loving County      |     36.145… |     -1.739… |\n",
      "| North Dakota | Mountrail County   |     32.668… |     -0.631… |\n",
      "| Florida      | Sumter County      |     31.519… |      4.302… |\n",
      "| Texas        | Hays County        |     29.214… |      5.086… |\n",
      "| Utah         | Wasatch County     |     29.197… |      4.673… |\n",
      "| North Dakota | Stark County       |     28.117… |     -2.925… |\n",
      "| Iowa         | Dallas County      |     26.713… |      4.629… |\n",
      "| Texas        | Kendall County     |     26.415… |      5.162… |\n",
      "| Georgia      | Long County        |     25.584… |      3.584… |\n",
      "| Texas        | Fort Bend County   |     25.541… |      3.837… |\n",
      "| Georgia      | Forsyth County     |     25.026… |      4.188… |\n",
      "| Florida      | Osceola County     |     24.521… |      4.020… |\n",
      "| Louisiana    | St. Bernard Parish |     24.108… |      0.670… |\n",
      "| Texas        | Williamson County  |     23.991… |      4.066… |\n",
      "| Texas        | Comal County       |     23.326… |      4.395… |\n",
      "| North Dakota | Dunn County        |     23.264… |     -4.547… |\n",
      "| Florida      | St. Johns County   |     22.911… |      3.719… |\n",
      "| Virginia     | Loudoun County     |     22.295… |      3.040… |\n",
      "| ...          | ...                |         ... |         ... |\n"
     ]
    }
   ],
   "source": [
    "sorted_counties.print_table(max_rows=20)"
   ]
  },
  {
   "cell_type": "markdown",
   "metadata": {},
   "source": [
    "Much better. Much much better. But not great. Let's round that number off. How to do that? Well, it's not as easy as you'd think for a lot of reasons.\n",
    "\n",
    "To do this, we're going to have to write a function that rounds off the numbers. You do that like this:"
   ]
  },
  {
   "cell_type": "code",
   "execution_count": 21,
   "metadata": {
    "collapsed": true
   },
   "outputs": [],
   "source": [
    "from decimal import Decimal\n",
    "\n",
    "def round_change(row):\n",
    "    return row['change10-16'].quantize(Decimal('0.1'))\n",
    "\n",
    "rounded_change = sorted_counties.compute([\n",
    "    ('change_rounded', agate.Formula(agate.Number(), round_change))\n",
    "])"
   ]
  },
  {
   "cell_type": "markdown",
   "metadata": {},
   "source": [
    "So first things first, you import Decimal, a number library in Python that has some advantages over standard numbers. Then you create the function (`def round_change`) and the thing you pass into the function is the `row` -- which measn this function is going to get executed on each row of data. Functions have to return something, so you return `row['change'].quantize(Decimal('0.1'))` which says convert each change figure into a decimal with only one significant digit. The output looks like this:"
   ]
  },
  {
   "cell_type": "code",
   "execution_count": 20,
   "metadata": {},
   "outputs": [
    {
     "name": "stdout",
     "output_type": "stream",
     "text": [
      "| STNAME       | CTYNAME            | change10-16 | change15-16 | change_rounded |\n",
      "| ------------ | ------------------ | ----------- | ----------- | -------------- |\n",
      "| North Dakota | McKenzie County    |     97.265… |     -1.337… |           97.3 |\n",
      "| North Dakota | Williams County    |     52.028… |     -2.967… |           52.0 |\n",
      "| Texas        | Loving County      |     36.145… |     -1.739… |           36.1 |\n",
      "| North Dakota | Mountrail County   |     32.668… |     -0.631… |           32.7 |\n",
      "| Florida      | Sumter County      |     31.519… |      4.302… |           31.5 |\n",
      "| Texas        | Hays County        |     29.214… |      5.086… |           29.2 |\n",
      "| Utah         | Wasatch County     |     29.197… |      4.673… |           29.2 |\n",
      "| North Dakota | Stark County       |     28.117… |     -2.925… |           28.1 |\n",
      "| Iowa         | Dallas County      |     26.713… |      4.629… |           26.7 |\n",
      "| Texas        | Kendall County     |     26.415… |      5.162… |           26.4 |\n",
      "| Georgia      | Long County        |     25.584… |      3.584… |           25.6 |\n",
      "| Texas        | Fort Bend County   |     25.541… |      3.837… |           25.5 |\n",
      "| Georgia      | Forsyth County     |     25.026… |      4.188… |           25.0 |\n",
      "| Florida      | Osceola County     |     24.521… |      4.020… |           24.5 |\n",
      "| Louisiana    | St. Bernard Parish |     24.108… |      0.670… |           24.1 |\n",
      "| Texas        | Williamson County  |     23.991… |      4.066… |           24.0 |\n",
      "| Texas        | Comal County       |     23.326… |      4.395… |           23.3 |\n",
      "| North Dakota | Dunn County        |     23.264… |     -4.547… |           23.3 |\n",
      "| Florida      | St. Johns County   |     22.911… |      3.719… |           22.9 |\n",
      "| Virginia     | Loudoun County     |     22.295… |      3.040… |           22.3 |\n",
      "| ...          | ...                |         ... |         ... |            ... |\n"
     ]
    }
   ],
   "source": [
    "rounded_change.print_table(max_rows=20)"
   ]
  },
  {
   "cell_type": "markdown",
   "metadata": {},
   "source": [
    "That might seem like a lot of code, but you can reuse it. And most of it is boilerplate. "
   ]
  },
  {
   "cell_type": "markdown",
   "metadata": {},
   "source": [
    "# Assignment\n",
    "\n",
    "1. Download [this dataset of voter registration totals](https://www.dropbox.com/s/ejaco2sv23uyuzf/registeredvoters.csv?dl=0) from the Nebraska Secretary of State. \n",
    "2. Calculate the percent change in total registered voters for every county from 2000 to 2016. \n",
    "3. Sort it fastest growing to fastest shrinking. Print it to the screen but limit it to 10.\n",
    "4. Sort it fastest shrinking to fastest growing. Print it to the screen but limit it to 10.\n",
    "5. Calculate the percent change in Republicans, Democrats and Independents for every county from 2000 to 2016.\n",
    "6. Which counties are growing Republicans fastest? Which counties are growing Democrats fastest? Which counties are growing Non-Partisans fastest? \n",
    "\n",
    "Submit your analysis notebook to Canvas."
   ]
  },
  {
   "cell_type": "code",
   "execution_count": null,
   "metadata": {
    "collapsed": true
   },
   "outputs": [],
   "source": []
  }
 ],
 "metadata": {
  "kernelspec": {
   "display_name": "Python 3",
   "language": "python",
   "name": "python3"
  },
  "language_info": {
   "codemirror_mode": {
    "name": "ipython",
    "version": 3
   },
   "file_extension": ".py",
   "mimetype": "text/x-python",
   "name": "python",
   "nbconvert_exporter": "python",
   "pygments_lexer": "ipython3",
   "version": "3.6.1"
  }
 },
 "nbformat": 4,
 "nbformat_minor": 1
}
