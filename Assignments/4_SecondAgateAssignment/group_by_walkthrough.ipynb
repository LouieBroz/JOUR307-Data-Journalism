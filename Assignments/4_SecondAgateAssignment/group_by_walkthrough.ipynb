{
 "cells": [
  {
   "cell_type": "markdown",
   "metadata": {},
   "source": [
    "# Group by walkthrough\n",
    "By now, you'd better know that you need to import Agate."
   ]
  },
  {
   "cell_type": "code",
   "execution_count": 2,
   "metadata": {},
   "outputs": [],
   "source": [
    "import warnings\n",
    "warnings.filterwarnings('ignore')\n",
    "\n",
    "import agate"
   ]
  },
  {
   "cell_type": "markdown",
   "metadata": {},
   "source": [
    "And you need data."
   ]
  },
  {
   "cell_type": "code",
   "execution_count": 4,
   "metadata": {},
   "outputs": [
    {
     "name": "stdout",
     "output_type": "stream",
     "text": [
      "| column      | data_type |\n",
      "| ----------- | --------- |\n",
      "| ID          | Number    |\n",
      "| Cofirm Type | Text      |\n",
      "| COUNTY      | Text      |\n",
      "| Date        | Date      |\n",
      "\n",
      "393\n"
     ]
    }
   ],
   "source": [
    "mountainlions = agate.Table.from_csv('../../Data/mountainlions.csv')\n",
    "print(mountainlions)\n",
    "print(len(mountainlions.rows))"
   ]
  },
  {
   "cell_type": "markdown",
   "metadata": {},
   "source": [
    "First, let's group them together using `group_by`. We'll create a new table, called `by_county` and populate it with the results of our `group_by` statement. The new table is a subset of our first table we created on import, so we'll have to be sure to use that. "
   ]
  },
  {
   "cell_type": "code",
   "execution_count": 4,
   "metadata": {
    "collapsed": true
   },
   "outputs": [],
   "source": [
    "by_county = mountainlions.group_by('COUNTY')"
   ]
  },
  {
   "cell_type": "code",
   "execution_count": 5,
   "metadata": {},
   "outputs": [
    {
     "name": "stdout",
     "output_type": "stream",
     "text": [
      "42\n"
     ]
    }
   ],
   "source": [
    "print(len(by_county))"
   ]
  },
  {
   "cell_type": "markdown",
   "metadata": {},
   "source": [
    "So that means 42 counties had mountain lion sightings. Out of 93 Nebraska counties. That's a chunk. However, it helps to know what by using group_by, we haven't actually created a new table. We've created a TableSet. Which is why you can't print it and see it."
   ]
  },
  {
   "cell_type": "code",
   "execution_count": 6,
   "metadata": {},
   "outputs": [
    {
     "ename": "AttributeError",
     "evalue": "'TableSet' object has no attribute 'print_table'",
     "output_type": "error",
     "traceback": [
      "\u001b[0;31m---------------------------------------------------------------------------\u001b[0m",
      "\u001b[0;31mAttributeError\u001b[0m                            Traceback (most recent call last)",
      "\u001b[0;32m<ipython-input-6-27a489864901>\u001b[0m in \u001b[0;36m<module>\u001b[0;34m()\u001b[0m\n\u001b[0;32m----> 1\u001b[0;31m \u001b[0mby_county\u001b[0m\u001b[0;34m.\u001b[0m\u001b[0mprint_table\u001b[0m\u001b[0;34m(\u001b[0m\u001b[0;34m)\u001b[0m\u001b[0;34m\u001b[0m\u001b[0m\n\u001b[0m",
      "\u001b[0;31mAttributeError\u001b[0m: 'TableSet' object has no attribute 'print_table'"
     ]
    }
   ],
   "source": [
    "by_county.print_table()"
   ]
  },
  {
   "cell_type": "markdown",
   "metadata": {},
   "source": [
    "To make something out of a `group_by` TableSet, we have to run some aggregates on it. That looks like this:"
   ]
  },
  {
   "cell_type": "code",
   "execution_count": 9,
   "metadata": {
    "collapsed": true
   },
   "outputs": [],
   "source": [
    "county_totals = by_county.aggregate([\n",
    "    ('count', agate.Count())\n",
    "])"
   ]
  },
  {
   "cell_type": "code",
   "execution_count": 10,
   "metadata": {},
   "outputs": [
    {
     "name": "stdout",
     "output_type": "stream",
     "text": [
      "| COUNTY       | count |\n",
      "| ------------ | ----- |\n",
      "| Dawes        |   111 |\n",
      "| Sioux        |    52 |\n",
      "| Scotts Bluff |    26 |\n",
      "| Box Butte    |     4 |\n",
      "| Howard       |     3 |\n",
      "| Brown        |    15 |\n",
      "| Douglas      |     2 |\n",
      "| Cherry       |    30 |\n",
      "| Thomas       |     5 |\n",
      "| Keya Paha    |    20 |\n",
      "| Dakota       |     3 |\n",
      "| Sarpy        |     1 |\n",
      "| Custer       |     8 |\n",
      "| Sheridan     |    35 |\n",
      "| Banner       |     6 |\n",
      "| Knox         |     8 |\n",
      "| Nance        |     1 |\n",
      "| Platte       |     1 |\n",
      "| Dawson       |     5 |\n",
      "| Rock         |    11 |\n",
      "| ...          |   ... |\n"
     ]
    }
   ],
   "source": [
    "county_totals.print_table()"
   ]
  },
  {
   "cell_type": "markdown",
   "metadata": {},
   "source": [
    "That's more like it. But it's not in order, so it is sort of bothersome. We can fix that just like we did in the first walkthrough -- with ordering. "
   ]
  },
  {
   "cell_type": "code",
   "execution_count": 11,
   "metadata": {},
   "outputs": [
    {
     "name": "stdout",
     "output_type": "stream",
     "text": [
      "| COUNTY       | count |\n",
      "| ------------ | ----- |\n",
      "| Dawes        |   111 |\n",
      "| Sioux        |    52 |\n",
      "| Sheridan     |    35 |\n",
      "| Cherry       |    30 |\n",
      "| Scotts Bluff |    26 |\n",
      "| Keya Paha    |    20 |\n",
      "| Brown        |    15 |\n",
      "| Rock         |    11 |\n",
      "| Lincoln      |    10 |\n",
      "| Custer       |     8 |\n",
      "| Knox         |     8 |\n",
      "| Banner       |     6 |\n",
      "| Thomas       |     5 |\n",
      "| Dawson       |     5 |\n",
      "| Nemaha       |     5 |\n",
      "| Box Butte    |     4 |\n",
      "| Howard       |     3 |\n",
      "| Dakota       |     3 |\n",
      "| Blaine       |     3 |\n",
      "| Buffalo      |     3 |\n",
      "| ...          |   ... |\n"
     ]
    }
   ],
   "source": [
    "sorted_counties = county_totals.order_by('count', reverse=True)\n",
    "sorted_counties.print_table()"
   ]
  },
  {
   "cell_type": "markdown",
   "metadata": {},
   "source": [
    "A note on `print_table`: You can limit the number of rows you print by addng max_rows=X to the print_table in the parenthesis, like this: "
   ]
  },
  {
   "cell_type": "code",
   "execution_count": 12,
   "metadata": {},
   "outputs": [
    {
     "name": "stdout",
     "output_type": "stream",
     "text": [
      "| COUNTY       | count |\n",
      "| ------------ | ----- |\n",
      "| Dawes        |   111 |\n",
      "| Sioux        |    52 |\n",
      "| Sheridan     |    35 |\n",
      "| Cherry       |    30 |\n",
      "| Scotts Bluff |    26 |\n",
      "| Keya Paha    |    20 |\n",
      "| Brown        |    15 |\n",
      "| Rock         |    11 |\n",
      "| Lincoln      |    10 |\n",
      "| Custer       |     8 |\n",
      "| ...          |   ... |\n"
     ]
    }
   ],
   "source": [
    "sorted_counties.print_table(max_rows=10)"
   ]
  },
  {
   "cell_type": "code",
   "execution_count": null,
   "metadata": {
    "collapsed": true
   },
   "outputs": [],
   "source": []
  }
 ],
 "metadata": {
  "kernelspec": {
   "display_name": "Python 3",
   "language": "python",
   "name": "python3"
  },
  "language_info": {
   "codemirror_mode": {
    "name": "ipython",
    "version": 3
   },
   "file_extension": ".py",
   "mimetype": "text/x-python",
   "name": "python",
   "nbconvert_exporter": "python",
   "pygments_lexer": "ipython3",
   "version": "3.6.1"
  }
 },
 "nbformat": 4,
 "nbformat_minor": 1
}
