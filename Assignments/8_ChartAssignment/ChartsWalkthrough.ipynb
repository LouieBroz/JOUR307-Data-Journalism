{
 "cells": [
  {
   "cell_type": "markdown",
   "metadata": {},
   "source": [
    "# Data visualization in Jupyter Notebook\n",
    "Sometimes, one of the best things you can do to see the story is to visualize it -- make it a chart. Agate has some built in charting tools to make this easy. "
   ]
  },
  {
   "cell_type": "code",
   "execution_count": 1,
   "metadata": {
    "collapsed": true
   },
   "outputs": [],
   "source": [
    "import agate\n",
    "\n",
    "import warnings\n",
    "warnings.filterwarnings('ignore')"
   ]
  },
  {
   "cell_type": "markdown",
   "metadata": {},
   "source": [
    "For the purposes of this assignment, I've created a data file called toplots.csv. It's the 20 most ticketed parking lots at UNL over four years. To get that, I used Agate to create a CSV of those top lots. If you want to see how it was done, [it's in the repository](https://github.com/mattwaite/JOUR407-Data-Journalism/blob/master/Assignments/ChartAssignment/TopTicketTable.ipynb)."
   ]
  },
  {
   "cell_type": "code",
   "execution_count": 2,
   "metadata": {
    "collapsed": true
   },
   "outputs": [],
   "source": [
    "lots = agate.Table.from_csv('../../Data/toplots.csv')"
   ]
  },
  {
   "cell_type": "markdown",
   "metadata": {},
   "source": [
    "So let's see what we've got to work with. "
   ]
  },
  {
   "cell_type": "code",
   "execution_count": 3,
   "metadata": {},
   "outputs": [
    {
     "name": "stdout",
     "output_type": "stream",
     "text": [
      "| column   | data_type |\n",
      "| -------- | --------- |\n",
      "| Location | Text      |\n",
      "| count    | Number    |\n",
      "\n"
     ]
    }
   ],
   "source": [
    "print(lots)"
   ]
  },
  {
   "cell_type": "markdown",
   "metadata": {},
   "source": [
    "So you've used `print_table` before. The simplest chart in Agate is `print_bars`. It looks like this. "
   ]
  },
  {
   "cell_type": "code",
   "execution_count": 5,
   "metadata": {},
   "outputs": [
    {
     "name": "stdout",
     "output_type": "stream",
     "text": [
      "Location                    count\n",
      "South Stadium               5,683 ▓░░░░░░░░░░░░░░░░░░░░░░░░░░░░░░░░░░░░░░░░░░░  \n",
      "14th & W Street             5,034 ▓░░░░░░░░░░░░░░░░░░░░░░░░░░░░░░░░░░░░░░       \n",
      "Inside Loop                 3,275 ▓░░░░░░░░░░░░░░░░░░░░░░░░░                    \n",
      "Harper Schramm Smith        3,256 ▓░░░░░░░░░░░░░░░░░░░░░░░░                     \n",
      "North Stadium               2,604 ▓░░░░░░░░░░░░░░░░░░░░                         \n",
      "East Union                  2,599 ▓░░░░░░░░░░░░░░░░░░░                          \n",
      "Sandoz                      2,228 ▓░░░░░░░░░░░░░░░░░                            \n",
      "19th Street/R-U Street      1,875 ▓░░░░░░░░░░░░░░                               \n",
      "14th & Avery Parking Garage 1,741 ▓░░░░░░░░░░░░░                                \n",
      "13th & R Lot                1,686 ▓░░░░░░░░░░░░░                                \n",
      "Loop                        1,649 ▓░░░░░░░░░░░░                                 \n",
      "Dental North                1,294 ▓░░░░░░░░░░                                   \n",
      "Champions Club              1,238 ▓░░░░░░░░░                                    \n",
      "Union                       1,232 ▓░░░░░░░░░                                    \n",
      "19th & Vine Parking Garage  1,231 ▓░░░░░░░░░                                    \n",
      "Law College South           1,219 ▓░░░░░░░░░                                    \n",
      "Boathouse                   1,176 ▓░░░░░░░░░                                    \n",
      "Sapp Drive                  1,169 ▓░░░░░░░░░                                    \n",
      "Westbrook Music Building    1,008 ▓░░░░░░░░                                     \n",
      "Andersen                      974 ▓░░░░░░░                                      \n",
      "                                  +----------+----------+-----------+----------+\n",
      "                                  0        1,500      3,000       4,500    6,000\n"
     ]
    }
   ],
   "source": [
    "lots.print_bars('Location', 'count', width=80)"
   ]
  },
  {
   "cell_type": "markdown",
   "metadata": {},
   "source": [
    "So, as you can probably surmise, `print_bars` takes in two required parameters, the first is the label, the second is the number you want to be represented in bars. The `width=80` part is optional -- it just sets a width so it looks better in my browser.\n",
    "\n",
    "The very same data can be made into a better looking chart using `bar_chart` instead of `print_bars` "
   ]
  },
  {
   "cell_type": "code",
   "execution_count": 6,
   "metadata": {},
   "outputs": [
    {
     "data": {
      "image/svg+xml": [
       "<svg height=\"600\" version=\"1.1\" width=\"800\" xmlns=\"http://www.w3.org/2000/svg\"><g><rect fill=\"#f9f9f9\" height=\"600\" width=\"800\" x=\"0\" y=\"0\"/><g transform=\"translate(40 40)\"><g transform=\"translate(254 0)\"/><g transform=\"translate(0 0)\"><g transform=\"translate(254 0)\"><g class=\"axis bottom\"><text dy=\"1em\" fill=\"#666\" font-family=\"Monaco\" text-anchor=\"middle\" transform=\"\" x=\"233.0\" y=\"506.0\">count</text><g class=\"tick\"><line stroke=\"#eee\" stroke-width=\"1\" x1=\"155.3333333333333333333333333\" x2=\"155.3333333333333333333333333\" y1=\"0\" y2=\"472.0\"/><text dy=\"1em\" fill=\"#9c9c9c\" font-family=\"Monaco\" text-anchor=\"middle\" x=\"155.3333333333333333333333333\" y=\"476.0\">2000</text></g><g class=\"tick\"><line stroke=\"#eee\" stroke-width=\"1\" x1=\"310.6666666666666666666666667\" x2=\"310.6666666666666666666666667\" y1=\"0\" y2=\"472.0\"/><text dy=\"1em\" fill=\"#9c9c9c\" font-family=\"Monaco\" text-anchor=\"middle\" x=\"310.6666666666666666666666667\" y=\"476.0\">4000</text></g><g class=\"tick\"><line stroke=\"#eee\" stroke-width=\"1\" x1=\"466\" x2=\"466\" y1=\"0\" y2=\"472.0\"/><text dy=\"1em\" fill=\"#9c9c9c\" font-family=\"Monaco\" text-anchor=\"middle\" x=\"466\" y=\"476.0\">6000</text></g><g class=\"tick\"><line stroke=\"#a8a8a8\" stroke-width=\"1\" x1=\"0\" x2=\"0\" y1=\"0\" y2=\"472.0\"/><text dy=\"1em\" fill=\"#9c9c9c\" font-family=\"Monaco\" text-anchor=\"middle\" x=\"0\" y=\"476.0\">0</text></g></g><g class=\"axis left\"><text dy=\"\" fill=\"#666\" font-family=\"Monaco\" text-anchor=\"middle\" transform=\"rotate(270 -232 234)\" x=\"-232\" y=\"234.0\">Location</text><g class=\"tick\"><line stroke=\"#eee\" stroke-width=\"1\" x1=\"-4\" x2=\"466.0\" y1=\"456.3\" y2=\"456.3\"/><text dy=\"0.32em\" fill=\"#9c9c9c\" font-family=\"Monaco\" text-anchor=\"end\" x=\"-8\" y=\"456.3\">Andersen</text></g><g class=\"tick\"><line stroke=\"#eee\" stroke-width=\"1\" x1=\"-4\" x2=\"466.0\" y1=\"432.9\" y2=\"432.9\"/><text dy=\"0.32em\" fill=\"#9c9c9c\" font-family=\"Monaco\" text-anchor=\"end\" x=\"-8\" y=\"432.9\">Westbrook Music Building</text></g><g class=\"tick\"><line stroke=\"#eee\" stroke-width=\"1\" x1=\"-4\" x2=\"466.0\" y1=\"409.5\" y2=\"409.5\"/><text dy=\"0.32em\" fill=\"#9c9c9c\" font-family=\"Monaco\" text-anchor=\"end\" x=\"-8\" y=\"409.5\">Sapp Drive</text></g><g class=\"tick\"><line stroke=\"#eee\" stroke-width=\"1\" x1=\"-4\" x2=\"466.0\" y1=\"386.1\" y2=\"386.1\"/><text dy=\"0.32em\" fill=\"#9c9c9c\" font-family=\"Monaco\" text-anchor=\"end\" x=\"-8\" y=\"386.1\">Boathouse</text></g><g class=\"tick\"><line stroke=\"#eee\" stroke-width=\"1\" x1=\"-4\" x2=\"466.0\" y1=\"362.7\" y2=\"362.7\"/><text dy=\"0.32em\" fill=\"#9c9c9c\" font-family=\"Monaco\" text-anchor=\"end\" x=\"-8\" y=\"362.7\">Law College South</text></g><g class=\"tick\"><line stroke=\"#eee\" stroke-width=\"1\" x1=\"-4\" x2=\"466.0\" y1=\"339.3\" y2=\"339.3\"/><text dy=\"0.32em\" fill=\"#9c9c9c\" font-family=\"Monaco\" text-anchor=\"end\" x=\"-8\" y=\"339.3\">19th &amp; Vine Parking Garage</text></g><g class=\"tick\"><line stroke=\"#eee\" stroke-width=\"1\" x1=\"-4\" x2=\"466.0\" y1=\"315.9\" y2=\"315.9\"/><text dy=\"0.32em\" fill=\"#9c9c9c\" font-family=\"Monaco\" text-anchor=\"end\" x=\"-8\" y=\"315.9\">Union</text></g><g class=\"tick\"><line stroke=\"#eee\" stroke-width=\"1\" x1=\"-4\" x2=\"466.0\" y1=\"292.5\" y2=\"292.5\"/><text dy=\"0.32em\" fill=\"#9c9c9c\" font-family=\"Monaco\" text-anchor=\"end\" x=\"-8\" y=\"292.5\">Champions Club</text></g><g class=\"tick\"><line stroke=\"#eee\" stroke-width=\"1\" x1=\"-4\" x2=\"466.0\" y1=\"269.1\" y2=\"269.1\"/><text dy=\"0.32em\" fill=\"#9c9c9c\" font-family=\"Monaco\" text-anchor=\"end\" x=\"-8\" y=\"269.1\">Dental North</text></g><g class=\"tick\"><line stroke=\"#eee\" stroke-width=\"1\" x1=\"-4\" x2=\"466.0\" y1=\"245.7\" y2=\"245.7\"/><text dy=\"0.32em\" fill=\"#9c9c9c\" font-family=\"Monaco\" text-anchor=\"end\" x=\"-8\" y=\"245.7\">Loop</text></g><g class=\"tick\"><line stroke=\"#eee\" stroke-width=\"1\" x1=\"-4\" x2=\"466.0\" y1=\"222.3\" y2=\"222.3\"/><text dy=\"0.32em\" fill=\"#9c9c9c\" font-family=\"Monaco\" text-anchor=\"end\" x=\"-8\" y=\"222.3\">13th &amp; R Lot</text></g><g class=\"tick\"><line stroke=\"#eee\" stroke-width=\"1\" x1=\"-4\" x2=\"466.0\" y1=\"198.9\" y2=\"198.9\"/><text dy=\"0.32em\" fill=\"#9c9c9c\" font-family=\"Monaco\" text-anchor=\"end\" x=\"-8\" y=\"198.9\">14th &amp; Avery Parking Garage</text></g><g class=\"tick\"><line stroke=\"#eee\" stroke-width=\"1\" x1=\"-4\" x2=\"466.0\" y1=\"175.5\" y2=\"175.5\"/><text dy=\"0.32em\" fill=\"#9c9c9c\" font-family=\"Monaco\" text-anchor=\"end\" x=\"-8\" y=\"175.5\">19th Street/R-U Street</text></g><g class=\"tick\"><line stroke=\"#eee\" stroke-width=\"1\" x1=\"-4\" x2=\"466.0\" y1=\"152.1\" y2=\"152.1\"/><text dy=\"0.32em\" fill=\"#9c9c9c\" font-family=\"Monaco\" text-anchor=\"end\" x=\"-8\" y=\"152.1\">Sandoz</text></g><g class=\"tick\"><line stroke=\"#eee\" stroke-width=\"1\" x1=\"-4\" x2=\"466.0\" y1=\"128.7\" y2=\"128.7\"/><text dy=\"0.32em\" fill=\"#9c9c9c\" font-family=\"Monaco\" text-anchor=\"end\" x=\"-8\" y=\"128.7\">East Union</text></g><g class=\"tick\"><line stroke=\"#eee\" stroke-width=\"1\" x1=\"-4\" x2=\"466.0\" y1=\"105.3\" y2=\"105.3\"/><text dy=\"0.32em\" fill=\"#9c9c9c\" font-family=\"Monaco\" text-anchor=\"end\" x=\"-8\" y=\"105.3\">North Stadium</text></g><g class=\"tick\"><line stroke=\"#eee\" stroke-width=\"1\" x1=\"-4\" x2=\"466.0\" y1=\"81.9\" y2=\"81.9\"/><text dy=\"0.32em\" fill=\"#9c9c9c\" font-family=\"Monaco\" text-anchor=\"end\" x=\"-8\" y=\"81.9\">Harper Schramm Smith</text></g><g class=\"tick\"><line stroke=\"#eee\" stroke-width=\"1\" x1=\"-4\" x2=\"466.0\" y1=\"58.5\" y2=\"58.5\"/><text dy=\"0.32em\" fill=\"#9c9c9c\" font-family=\"Monaco\" text-anchor=\"end\" x=\"-8\" y=\"58.5\">Inside Loop</text></g><g class=\"tick\"><line stroke=\"#eee\" stroke-width=\"1\" x1=\"-4\" x2=\"466.0\" y1=\"35.1\" y2=\"35.1\"/><text dy=\"0.32em\" fill=\"#9c9c9c\" font-family=\"Monaco\" text-anchor=\"end\" x=\"-8\" y=\"35.1\">14th &amp; W Street</text></g><g class=\"tick\"><line stroke=\"#eee\" stroke-width=\"1\" x1=\"-4\" x2=\"466.0\" y1=\"11.7\" y2=\"11.7\"/><text dy=\"0.32em\" fill=\"#9c9c9c\" font-family=\"Monaco\" text-anchor=\"end\" x=\"-8\" y=\"11.7\">South Stadium</text></g></g><g><g class=\"series bars\"><rect fill=\"#e41a1c\" height=\"21.06\" width=\"75.64733333333333333333333332\" x=\"0\" y=\"445.77\"/><rect fill=\"#e41a1c\" height=\"21.06\" width=\"78.288\" x=\"0\" y=\"422.37\"/><rect fill=\"#e41a1c\" height=\"21.06\" width=\"90.79233333333333333333333332\" x=\"0\" y=\"398.97\"/><rect fill=\"#e41a1c\" height=\"21.06\" width=\"91.336\" x=\"0\" y=\"375.57\"/><rect fill=\"#e41a1c\" height=\"21.06\" width=\"94.67566666666666666666666668\" x=\"0\" y=\"352.17\"/><rect fill=\"#e41a1c\" height=\"21.06\" width=\"95.60766666666666666666666668\" x=\"0\" y=\"328.77\"/><rect fill=\"#e41a1c\" height=\"21.06\" width=\"95.68533333333333333333333332\" x=\"0\" y=\"305.37\"/><rect fill=\"#e41a1c\" height=\"21.06\" width=\"96.15133333333333333333333332\" x=\"0\" y=\"281.97\"/><rect fill=\"#e41a1c\" height=\"21.06\" width=\"100.5006666666666666666666667\" x=\"0\" y=\"258.57\"/><rect fill=\"#e41a1c\" height=\"21.06\" width=\"128.0723333333333333333333333\" x=\"0\" y=\"235.17\"/><rect fill=\"#e41a1c\" height=\"21.06\" width=\"130.946\" x=\"0\" y=\"211.77\"/><rect fill=\"#e41a1c\" height=\"21.06\" width=\"135.2176666666666666666666667\" x=\"0\" y=\"188.37\"/><rect fill=\"#e41a1c\" height=\"21.06\" width=\"145.6250\" x=\"0\" y=\"164.97\"/><rect fill=\"#e41a1c\" height=\"21.06\" width=\"173.0413333333333333333333333\" x=\"0\" y=\"141.57\"/><rect fill=\"#e41a1c\" height=\"21.06\" width=\"201.8556666666666666666666667\" x=\"0\" y=\"118.17\"/><rect fill=\"#e41a1c\" height=\"21.06\" width=\"202.244\" x=\"0\" y=\"94.77\"/><rect fill=\"#e41a1c\" height=\"21.06\" width=\"252.8826666666666666666666667\" x=\"0\" y=\"71.37\"/><rect fill=\"#e41a1c\" height=\"21.06\" width=\"254.3583333333333333333333333\" x=\"0\" y=\"47.97\"/><rect fill=\"#e41a1c\" height=\"21.06\" width=\"390.974\" x=\"0\" y=\"24.57\"/><rect fill=\"#e41a1c\" height=\"21.06\" width=\"441.3796666666666666666666667\" x=\"0\" y=\"1.17\"/></g></g></g></g></g></g></svg>"
      ],
      "text/plain": [
       "<IPython.core.display.SVG object>"
      ]
     },
     "execution_count": 6,
     "metadata": {},
     "output_type": "execute_result"
    }
   ],
   "source": [
    "lots.bar_chart('Location', 'count')"
   ]
  },
  {
   "cell_type": "markdown",
   "metadata": {},
   "source": [
    "In this example, the two required parameters are still there -- the label and the count. A handy optional parameter is a file path -- `'myproject/charts/bar_chart.svg'` -- that will output the file as an SVG file. SVG stands for Scalable Vector Graphic, which you import into a program like Illustrator to clean up. \n",
    "\n",
    "Let's walk through a little more complex example, using the UNL crime data we used for our Data Smells assignment. "
   ]
  },
  {
   "cell_type": "code",
   "execution_count": 7,
   "metadata": {
    "collapsed": true
   },
   "outputs": [],
   "source": [
    "crime = agate.Table.from_csv('../../Data/unlcrime.csv')"
   ]
  },
  {
   "cell_type": "code",
   "execution_count": 18,
   "metadata": {},
   "outputs": [
    {
     "name": "stdout",
     "output_type": "stream",
     "text": [
      "| column         | data_type |\n",
      "| -------------- | --------- |\n",
      "| Case #         | Text      |\n",
      "| Incident Code  | Text      |\n",
      "| Reported       | DateTime  |\n",
      "| Case Status    | Text      |\n",
      "| Start Occurred | DateTime  |\n",
      "| End Occurred   | DateTime  |\n",
      "| Building       | Text      |\n",
      "| Location       | Text      |\n",
      "| Stolen         | Number    |\n",
      "| Damaged        | Number    |\n",
      "| Description    | Text      |\n",
      "\n"
     ]
    }
   ],
   "source": [
    "print(crime)"
   ]
  },
  {
   "cell_type": "markdown",
   "metadata": {},
   "source": [
    "So something we might want to know is how has Minor in Possession evolved over time? So to do that, we need a couple of things:\n",
    "\n",
    "1. To select MIP cases.\n",
    "2. To create a field where we can store what year the incident occurred so we can group on it.\n",
    "3. Group on those years.\n",
    "4. Count those years.\n",
    "5. Chart it out. \n",
    "\n",
    "Luckily, we've done steps 1-4 before. "
   ]
  },
  {
   "cell_type": "code",
   "execution_count": 15,
   "metadata": {
    "collapsed": true
   },
   "outputs": [],
   "source": [
    "mip = crime.where(lambda row: row['Incident Code'] == 'ALCOHOL - MINOR IN POSSESSION').where()\n",
    "\n",
    "mip_with_years = mip.compute([\n",
    "    ('reported_year', agate.Formula(agate.Number(), lambda row: '%s' % row['Reported'].year))\n",
    "])\n",
    "\n",
    "years = mip_with_years.group_by('reported_year')\n",
    "\n",
    "year_counts = years.aggregate([\n",
    "    ('count', agate.Count())\n",
    "])"
   ]
  },
  {
   "cell_type": "markdown",
   "metadata": {},
   "source": [
    "So now all that is left to do is chart it. Note above that my years are a number. I did that because the charting library needs a number, so I fed it one. Date charts are better as line charts, in my opinion, so we'll use the line charting function. "
   ]
  },
  {
   "cell_type": "code",
   "execution_count": 16,
   "metadata": {},
   "outputs": [
    {
     "data": {
      "image/svg+xml": [
       "<svg height=\"600\" version=\"1.1\" width=\"800\" xmlns=\"http://www.w3.org/2000/svg\"><g><rect fill=\"#f9f9f9\" height=\"600\" width=\"800\" x=\"0\" y=\"0\"/><g transform=\"translate(40 40)\"><g transform=\"translate(62 0)\"/><g transform=\"translate(0 0)\"><g transform=\"translate(62 0)\"><g class=\"axis bottom\"><text dy=\"1em\" fill=\"#666\" font-family=\"Monaco\" text-anchor=\"middle\" transform=\"\" x=\"329.0\" y=\"506.0\">reported_year</text><g class=\"tick\"><line stroke=\"#eee\" stroke-width=\"1\" x1=\"0\" x2=\"0\" y1=\"0\" y2=\"472.0\"/><text dy=\"1em\" fill=\"#9c9c9c\" font-family=\"Monaco\" text-anchor=\"middle\" x=\"0\" y=\"476.0\">2010</text></g><g class=\"tick\"><line stroke=\"#eee\" stroke-width=\"1\" x1=\"131.6\" x2=\"131.6\" y1=\"0\" y2=\"472.0\"/><text dy=\"1em\" fill=\"#9c9c9c\" font-family=\"Monaco\" text-anchor=\"middle\" x=\"131.6\" y=\"476.0\">2011</text></g><g class=\"tick\"><line stroke=\"#eee\" stroke-width=\"1\" x1=\"263.2\" x2=\"263.2\" y1=\"0\" y2=\"472.0\"/><text dy=\"1em\" fill=\"#9c9c9c\" font-family=\"Monaco\" text-anchor=\"middle\" x=\"263.2\" y=\"476.0\">2012</text></g><g class=\"tick\"><line stroke=\"#eee\" stroke-width=\"1\" x1=\"394.8\" x2=\"394.8\" y1=\"0\" y2=\"472.0\"/><text dy=\"1em\" fill=\"#9c9c9c\" font-family=\"Monaco\" text-anchor=\"middle\" x=\"394.8\" y=\"476.0\">2013</text></g><g class=\"tick\"><line stroke=\"#eee\" stroke-width=\"1\" x1=\"526.4\" x2=\"526.4\" y1=\"0\" y2=\"472.0\"/><text dy=\"1em\" fill=\"#9c9c9c\" font-family=\"Monaco\" text-anchor=\"middle\" x=\"526.4\" y=\"476.0\">2014</text></g><g class=\"tick\"><line stroke=\"#eee\" stroke-width=\"1\" x1=\"658\" x2=\"658\" y1=\"0\" y2=\"472.0\"/><text dy=\"1em\" fill=\"#9c9c9c\" font-family=\"Monaco\" text-anchor=\"middle\" x=\"658\" y=\"476.0\">2015</text></g></g><g class=\"axis left\"><text dy=\"\" fill=\"#666\" font-family=\"Monaco\" text-anchor=\"middle\" transform=\"rotate(270 -40 234)\" x=\"-40\" y=\"234.0\">count</text><g class=\"tick\"><line stroke=\"#eee\" stroke-width=\"1\" x1=\"-4\" x2=\"658.0\" y1=\"312.0000000000000000000000000\" y2=\"312.0000000000000000000000000\"/><text dy=\"0.32em\" fill=\"#9c9c9c\" font-family=\"Monaco\" text-anchor=\"end\" x=\"-8\" y=\"312.0000000000000000000000000\">100</text></g><g class=\"tick\"><line stroke=\"#eee\" stroke-width=\"1\" x1=\"-4\" x2=\"658.0\" y1=\"156.0000000000000000000000000\" y2=\"156.0000000000000000000000000\"/><text dy=\"0.32em\" fill=\"#9c9c9c\" font-family=\"Monaco\" text-anchor=\"end\" x=\"-8\" y=\"156.0000000000000000000000000\">200</text></g><g class=\"tick\"><line stroke=\"#eee\" stroke-width=\"1\" x1=\"-4\" x2=\"658.0\" y1=\"0\" y2=\"0\"/><text dy=\"0.32em\" fill=\"#9c9c9c\" font-family=\"Monaco\" text-anchor=\"end\" x=\"-8\" y=\"0\">300</text></g><g class=\"tick\"><line stroke=\"#a8a8a8\" stroke-width=\"1\" x1=\"-4\" x2=\"658.0\" y1=\"468\" y2=\"468\"/><text dy=\"0.32em\" fill=\"#9c9c9c\" font-family=\"Monaco\" text-anchor=\"end\" x=\"-8\" y=\"468\">0</text></g></g><g><g class=\"series lines\"><path d=\"M 0 433.6800000000000000000000000 L 131.6 179.4000000000000000000000000 L 263.2 176.2800000000000000000000000 L 394.8 93.6 L 526.4 166.9200000000000000000000000 L 658 269.8800000000000000000000000\" fill=\"none\" stroke=\"#e41a1c\" stroke-width=\"2\"/></g></g></g></g></g></g></svg>"
      ],
      "text/plain": [
       "<IPython.core.display.SVG object>"
      ]
     },
     "execution_count": 16,
     "metadata": {},
     "output_type": "execute_result"
    }
   ],
   "source": [
    "year_counts.order_by('reported_year').line_chart('reported_year', 'count')"
   ]
  },
  {
   "cell_type": "markdown",
   "metadata": {
    "collapsed": true
   },
   "source": [
    "## Assignment\n",
    "\n",
    "Using [this dataset](https://www.dropbox.com/s/ddcpkc8no2t959e/lpdarrests.csv?dl=0) of all arrests and citations issued by LPD from 2014-2016, produce three charts of your choosing. You can find out [more information about the data here](http://opendata.lincoln.ne.gov/datasets/lpd-arrests-and-citations-2016). [More information about charting can be found here](http://agate.readthedocs.io/en/1.6.0/cookbook/charting.html).  "
   ]
  },
  {
   "cell_type": "code",
   "execution_count": null,
   "metadata": {
    "collapsed": true
   },
   "outputs": [],
   "source": []
  }
 ],
 "metadata": {
  "kernelspec": {
   "display_name": "Python 3",
   "language": "python",
   "name": "python3"
  },
  "language_info": {
   "codemirror_mode": {
    "name": "ipython",
    "version": 3
   },
   "file_extension": ".py",
   "mimetype": "text/x-python",
   "name": "python",
   "nbconvert_exporter": "python",
   "pygments_lexer": "ipython3",
   "version": "3.6.1"
  }
 },
 "nbformat": 4,
 "nbformat_minor": 1
}
