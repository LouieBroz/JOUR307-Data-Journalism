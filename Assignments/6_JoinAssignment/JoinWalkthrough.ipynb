{
 "cells": [
  {
   "cell_type": "markdown",
   "metadata": {},
   "source": [
    "# Join walkthrough\n",
    "In databases, when we have two tables that are related to each other by a common element, then our database is called a relational database. When all of our data is in a single file, that's called a flat file. \n",
    "\n",
    "Often, in data, we have one set of information stored in a table over here, and another set of information stored in a table over here. At the university, your student records are scattered in tables all over. Somewhere, there is a master student record, that has your name, birthdate, ID number, home address and other basic info. Then, over in the registrars office, we have the classes you took and the grades you received. Over here, we have the bursars office, which shows how much you owe in tuition and how much you've paid. If we wanted to get a single table together that showed how much you paid for each grade you got, we'd have to JOIN them together somehow. \n",
    "\n",
    "In Agate, like SQL, it's called a join. So let's do that. I've got two datasets that I want to join together and calculate a new number from something in both. \n",
    "\n",
    "Here is the question we're trying to answer: What Nebraska city has seen the largest growth in taxable sales since The Great Recession. "
   ]
  },
  {
   "cell_type": "code",
   "execution_count": 1,
   "metadata": {
    "collapsed": true
   },
   "outputs": [],
   "source": [
    "import agate\n",
    "\n",
    "import warnings\n",
    "warnings.filterwarnings('ignore')"
   ]
  },
  {
   "cell_type": "markdown",
   "metadata": {},
   "source": [
    "Now we need to import our two tables."
   ]
  },
  {
   "cell_type": "code",
   "execution_count": 6,
   "metadata": {},
   "outputs": [
    {
     "name": "stdout",
     "output_type": "stream",
     "text": [
      "| column             | data_type |\n",
      "| ------------------ | --------- |\n",
      "| Year               | Number    |\n",
      "| County             | Text      |\n",
      "| City               | Text      |\n",
      "| Net Taxable Sales  | Number    |\n",
      "| Nebraska Sales Tax | Number    |\n",
      "\n",
      "458\n"
     ]
    }
   ],
   "source": [
    "taxes2015 = agate.Table.from_csv('../../Data/taxes2015.csv')\n",
    "print(taxes2015)\n",
    "print(len(taxes2015.rows))"
   ]
  },
  {
   "cell_type": "code",
   "execution_count": 8,
   "metadata": {},
   "outputs": [
    {
     "name": "stdout",
     "output_type": "stream",
     "text": [
      "| column             | data_type |\n",
      "| ------------------ | --------- |\n",
      "| Year               | Number    |\n",
      "| County             | Text      |\n",
      "| City               | Text      |\n",
      "| Net Taxable Sales  | Number    |\n",
      "| Nebraska Sales Tax | Number    |\n",
      "\n",
      "456\n"
     ]
    }
   ],
   "source": [
    "taxes2016 = agate.Table.from_csv('../../Data/taxes2016.csv')\n",
    "print(taxes2016)\n",
    "print(len(taxes2016.rows))"
   ]
  },
  {
   "cell_type": "markdown",
   "metadata": {},
   "source": [
    "Join syntax could not be easier. It's create a new table, and set it equal to the table you want to start with dot join and then it's the table you want to join to your starting table, and then the fields you're going to join on, starting with your original table and then your second table. In my case, I created fields in the dataset that merged the name of the city. We can get away with it because there aren't two towns with the same name in the dataset. "
   ]
  },
  {
   "cell_type": "code",
   "execution_count": 9,
   "metadata": {},
   "outputs": [],
   "source": [
    "taxes = taxes2016.join(taxes2015, 'City', 'City', inner=True)"
   ]
  },
  {
   "cell_type": "code",
   "execution_count": 15,
   "metadata": {},
   "outputs": [
    {
     "name": "stdout",
     "output_type": "stream",
     "text": [
      "| column              | data_type |\n",
      "| ------------------- | --------- |\n",
      "| Year                | Number    |\n",
      "| County              | Text      |\n",
      "| City                | Text      |\n",
      "| Net Taxable Sales   | Number    |\n",
      "| Nebraska Sales Tax  | Number    |\n",
      "| Year2               | Number    |\n",
      "| County2             | Text      |\n",
      "| Net Taxable Sales2  | Number    |\n",
      "| Nebraska Sales Tax2 | Number    |\n",
      "\n",
      "452\n",
      "|  Year | County   | City       | Net Taxable Sales | Nebraska Sales Tax | Year2 | ... |\n",
      "| ----- | -------- | ---------- | ----------------- | ------------------ | ----- | --- |\n",
      "| 2,016 | Adams    | Ayr        |            35,187 |           1,935.32 | 2,015 | ... |\n",
      "| 2,016 | Adams    | Hastings   |       370,623,979 |      20,408,258.47 | 2,015 | ... |\n",
      "| 2,016 | Adams    | Holstein   |         1,417,719 |          77,974.75 | 2,015 | ... |\n",
      "| 2,016 | Adams    | Juniata    |         3,974,707 |         218,609.24 | 2,015 | ... |\n",
      "| 2,016 | Adams    | Kenesaw    |         3,387,844 |         186,331.83 | 2,015 | ... |\n",
      "| 2,016 | Adams    | Roseland   |           931,316 |          51,222.60 | 2,015 | ... |\n",
      "| 2,016 | Antelope | Brunswick  |           483,094 |          22,324.27 | 2,015 | ... |\n",
      "| 2,016 | Antelope | Clearwater |         2,983,432 |         164,089.49 | 2,015 | ... |\n",
      "| 2,016 | Antelope | Elgin      |         5,889,706 |         324,858.36 | 2,015 | ... |\n",
      "| 2,016 | Antelope | Neligh     |        21,154,320 |       1,163,943.72 | 2,015 | ... |\n",
      "|   ... | ...      | ...        |               ... |                ... |   ... | ... |\n"
     ]
    }
   ],
   "source": [
    "print(taxes)\n",
    "print(len(taxes.rows))\n",
    "taxes.print_table(max_rows=10)"
   ]
  },
  {
   "cell_type": "markdown",
   "metadata": {},
   "source": [
    "Note some cities dropped out. That'll be because of reporting problems or changes between the reports. If we were doing a story, we'd investigate and figure out what happened and if we could fix it.\n",
    "\n",
    "But for purposes of this assignment, the rest is stuff you've done. We'll calculate a percent change, sort it and print it. "
   ]
  },
  {
   "cell_type": "code",
   "execution_count": 16,
   "metadata": {
    "collapsed": true
   },
   "outputs": [],
   "source": [
    "change = taxes.compute([\n",
    "    ('taxable_change', agate.PercentChange('Net Taxable Sales2', 'Net Taxable Sales')),\n",
    "    ('salestax_change', agate.PercentChange('Nebraska Sales Tax2', 'Nebraska Sales Tax'))        \n",
    "])"
   ]
  },
  {
   "cell_type": "code",
   "execution_count": 17,
   "metadata": {
    "collapsed": true
   },
   "outputs": [],
   "source": [
    "sorted_change = change.order_by('taxable_change', reverse=True)"
   ]
  },
  {
   "cell_type": "code",
   "execution_count": 18,
   "metadata": {
    "collapsed": true
   },
   "outputs": [],
   "source": [
    "for_printing = sorted_change.select(['City', 'taxable_change'])"
   ]
  },
  {
   "cell_type": "code",
   "execution_count": 19,
   "metadata": {},
   "outputs": [
    {
     "name": "stdout",
     "output_type": "stream",
     "text": [
      "| City         | taxable_change |\n",
      "| ------------ | -------------- |\n",
      "| Harrisburg   |       652.701… |\n",
      "| Sparks       |       157.235… |\n",
      "| Dixon        |       144.814… |\n",
      "| Taylor       |        75.241… |\n",
      "| Venango      |        71.804… |\n",
      "| Winnebago    |        54.881… |\n",
      "| Farwell      |        53.931… |\n",
      "| Kennard      |        52.851… |\n",
      "| Rulo         |        44.586… |\n",
      "| Linwood      |        43.760… |\n",
      "| Ohiowa       |        43.436… |\n",
      "| Allen        |        42.461… |\n",
      "| Chester      |        40.340… |\n",
      "| Malcolm      |        40.131… |\n",
      "| Ithaca       |        36.240… |\n",
      "| Blue Springs |        33.589… |\n",
      "| Danbury      |        30.319… |\n",
      "| Kilgore      |        29.870… |\n",
      "| Avoca        |        28.638… |\n",
      "| Waverly      |        27.905… |\n",
      "| ...          |            ... |\n"
     ]
    }
   ],
   "source": [
    "for_printing.print_table()"
   ]
  },
  {
   "cell_type": "markdown",
   "metadata": {},
   "source": [
    "## Assignment for Tuesday\n",
    "\n",
    "There are two data files: [frl15](https://www.dropbox.com/s/glbasqy9sitqql4/frl15.csv?dl=0) and [frl16](https://www.dropbox.com/s/z1xfqh5aila13zf/frl16.csv?dl=0). They are the Free and Reduced Lunch participation totals for every school in Nebraska. I want you to join them together into a single table and calculate the percent change from 2015 to 2016 and sort them by the largest change. Which school in Nebraska saw the largest increase in participation in free and reduced school lunches, which is a proxy for poverty? \n",
    "\n",
    "To complete this assignment, you are going to have to join the dataset together. There is a field called `codistsch` that is a unique identifier for the school. The problem? Agate is going to interpret it as a number. It is not. So you're going to have to implement [overriding Agate's type inferences](http://agate.readthedocs.io/en/1.6.0/cookbook/create.html#override-type-inference), which is not hard."
   ]
  },
  {
   "cell_type": "code",
   "execution_count": null,
   "metadata": {
    "collapsed": true
   },
   "outputs": [],
   "source": []
  }
 ],
 "metadata": {
  "kernelspec": {
   "display_name": "Python 3",
   "language": "python",
   "name": "python3"
  },
  "language_info": {
   "codemirror_mode": {
    "name": "ipython",
    "version": 3
   },
   "file_extension": ".py",
   "mimetype": "text/x-python",
   "name": "python",
   "nbconvert_exporter": "python",
   "pygments_lexer": "ipython3",
   "version": "3.6.1"
  }
 },
 "nbformat": 4,
 "nbformat_minor": 1
}
