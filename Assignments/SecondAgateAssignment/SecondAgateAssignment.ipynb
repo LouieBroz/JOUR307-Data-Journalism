{
 "cells": [
  {
   "cell_type": "markdown",
   "metadata": {},
   "source": [
    "# Second Agate Assignment\n",
    "\n",
    "With this assignment, we need to import some data, filter out non-UNL campuses and calculate a average salary and a median salart for all UNL employees. The first step is always import the libraries you need. For now and the forseeable future, we just need Agate."
   ]
  },
  {
   "cell_type": "code",
   "execution_count": 1,
   "metadata": {
    "collapsed": true
   },
   "outputs": [],
   "source": [
    "import agate"
   ]
  },
  {
   "cell_type": "markdown",
   "metadata": {},
   "source": [
    "Let's add some data. "
   ]
  },
  {
   "cell_type": "code",
   "execution_count": 2,
   "metadata": {
    "collapsed": false
   },
   "outputs": [],
   "source": [
    "salaries = agate.Table.from_csv('../../Data/nusalaries1415.csv')"
   ]
  },
  {
   "cell_type": "code",
   "execution_count": 3,
   "metadata": {
    "collapsed": false
   },
   "outputs": [
    {
     "name": "stdout",
     "output_type": "stream",
     "text": [
      "|-------------------+---------------|\n",
      "|  column_names     | column_types  |\n",
      "|-------------------+---------------|\n",
      "|  ID               | Number        |\n",
      "|  Campus           | Text          |\n",
      "|  DepartmentNumber | Date          |\n",
      "|  DepartmentName   | Text          |\n",
      "|  CostElement      | Number        |\n",
      "|  Name             | Text          |\n",
      "|  Title            | Text          |\n",
      "|  Position         | Number        |\n",
      "|  Class            | Number        |\n",
      "|  Term             | Number        |\n",
      "|  FTE              | Number        |\n",
      "|  Salary           | Number        |\n",
      "|-------------------+---------------|\n",
      "\n"
     ]
    }
   ],
   "source": [
    "print(salaries)"
   ]
  },
  {
   "cell_type": "markdown",
   "metadata": {},
   "source": [
    "Now we just want UNL, so we need to filter those out. "
   ]
  },
  {
   "cell_type": "code",
   "execution_count": 4,
   "metadata": {
    "collapsed": true
   },
   "outputs": [],
   "source": [
    "unl = salaries.where(lambda row: row['Campus'] is 'University of Nebraska-Lincoln')"
   ]
  },
  {
   "cell_type": "code",
   "execution_count": 5,
   "metadata": {
    "collapsed": false
   },
   "outputs": [
    {
     "name": "stdout",
     "output_type": "stream",
     "text": [
      "0\n"
     ]
    }
   ],
   "source": [
    "print(len(unl.rows))"
   ]
  },
  {
   "cell_type": "markdown",
   "metadata": {},
   "source": [
    "Uh oh. How could this be? The answer is almost always a bad filter condition. In this case, it's not title cased, it should be all caps. And there's a space between the dash on both sides."
   ]
  },
  {
   "cell_type": "code",
   "execution_count": 6,
   "metadata": {
    "collapsed": true
   },
   "outputs": [],
   "source": [
    "unl = salaries.where(lambda row: row['Campus'] is 'UNIVERSITY OF NEBRASKA - LINCOLN')"
   ]
  },
  {
   "cell_type": "code",
   "execution_count": 7,
   "metadata": {
    "collapsed": false
   },
   "outputs": [
    {
     "name": "stdout",
     "output_type": "stream",
     "text": [
      "0\n"
     ]
    }
   ],
   "source": [
    "print(len(unl.rows))"
   ]
  },
  {
   "cell_type": "markdown",
   "metadata": {},
   "source": [
    "Now, what the hell? That should work, right? Well, not exactly. We need to set our row equal to UNIVERISTY ... and we can't use the regular `=` to do it. We need to use `==` which in Python is actually equal to. The single equal sign is for assigning varables. "
   ]
  },
  {
   "cell_type": "code",
   "execution_count": 8,
   "metadata": {
    "collapsed": true
   },
   "outputs": [],
   "source": [
    "unl = salaries.where(lambda row: row['Campus'] == 'UNIVERSITY OF NEBRASKA - LINCOLN')"
   ]
  },
  {
   "cell_type": "code",
   "execution_count": 9,
   "metadata": {
    "collapsed": false
   },
   "outputs": [
    {
     "name": "stdout",
     "output_type": "stream",
     "text": [
      "6948\n"
     ]
    }
   ],
   "source": [
    "print(len(unl.rows))"
   ]
  },
  {
   "cell_type": "markdown",
   "metadata": {},
   "source": [
    "That's better. Now let's create an average salary."
   ]
  },
  {
   "cell_type": "code",
   "execution_count": 10,
   "metadata": {
    "collapsed": false
   },
   "outputs": [
    {
     "name": "stdout",
     "output_type": "stream",
     "text": [
      "71766.36931491076568796776051\n"
     ]
    }
   ],
   "source": [
    "average_salary = unl.aggregate(agate.Mean('Salary'))\n",
    "print(average_salary)"
   ]
  },
  {
   "cell_type": "markdown",
   "metadata": {},
   "source": [
    "So the average salary is \\$71,766. Which might be influenced by the \\$2.5 million the football coach makes, or the cool million the basketball coach makes. Maybe. Let's see by creating a median salary."
   ]
  },
  {
   "cell_type": "code",
   "execution_count": 11,
   "metadata": {
    "collapsed": false
   },
   "outputs": [
    {
     "name": "stdout",
     "output_type": "stream",
     "text": [
      "54200\n"
     ]
    }
   ],
   "source": [
    "median_salary = unl.aggregate(agate.Median('Salary'))\n",
    "print(median_salary)"
   ]
  },
  {
   "cell_type": "markdown",
   "metadata": {},
   "source": [
    "That's much more realistic. But it's also not representative of individual jobs. We'll be curious about those. So let's group them together and do the same aggregates on the grouped salaries."
   ]
  },
  {
   "cell_type": "code",
   "execution_count": 12,
   "metadata": {
    "collapsed": true
   },
   "outputs": [],
   "source": [
    "by_position = unl.group_by('Title')"
   ]
  },
  {
   "cell_type": "markdown",
   "metadata": {},
   "source": [
    "Now we create some aggregates of those. We can chain those together into a single table. This will give us a count, a median and an average all in the same table so we can compare."
   ]
  },
  {
   "cell_type": "code",
   "execution_count": 13,
   "metadata": {
    "collapsed": true
   },
   "outputs": [],
   "source": [
    "jobs = by_position.aggregate([\n",
    "    ('count', agate.Length()),\n",
    "    ('median_salary', agate.Median('Salary')),\n",
    "    ('average_salary', agate.Mean('Salary'))\n",
    "])"
   ]
  },
  {
   "cell_type": "markdown",
   "metadata": {},
   "source": [
    "Now that we have that, we want to sort it and then print it out so we can see it. "
   ]
  },
  {
   "cell_type": "code",
   "execution_count": 14,
   "metadata": {
    "collapsed": false
   },
   "outputs": [
    {
     "name": "stdout",
     "output_type": "stream",
     "text": [
      "|----------------------------------+-------+---------------+---------------------------------|\n",
      "|  Title                           | count | median_salary |                 average_salary  |\n",
      "|----------------------------------+-------+---------------+---------------------------------|\n",
      "|  Professor                       |   788 |     122,289.0 | 129,447.2131979695431472081218  |\n",
      "|  Associate Professor             |   324 |      77,648.0 |  83,942.1049382716049382716049  |\n",
      "|  Assistant Professor             |   184 |      71,050.0 |  79,873.3152173913043478260870  |\n",
      "|  Custodian II                    |   181 |      23,893.0 |  24,498.8453038674033149171271  |\n",
      "|  Asst Professor                  |   152 |      83,353.0 |  83,441.4605263157894736842105  |\n",
      "|  Assoc Professor                 |   127 |      93,592.0 |  96,058.7716535433070866141732  |\n",
      "|  Director                        |    86 |     142,127.5 | 139,503.9302325581395348837209  |\n",
      "|  Office Assoc                    |    81 |      34,290.0 |  34,750.0987654320987654320988  |\n",
      "|  Rsch Technologist I             |    63 |      36,476.0 |  38,035.6825396825396825396825  |\n",
      "|  Ag Rsch Technician II           |    63 |      34,907.0 |  37,418.8412698412698412698413  |\n",
      "|  Residence Hall Custodian II     |    57 |      22,904.0 |  23,683.5789473684210526315790  |\n",
      "|  Dining Service Associate        |    50 |      22,360.0 |  22,662.2000000000000000000000  |\n",
      "|  Post-Doc Rsch Assoc             |    50 |      40,270.0 |  39,825.6600000000000000000000  |\n",
      "|  Assistant Director              |    47 |      55,764.0 |  58,696.7659574468085106382979  |\n",
      "|  Assistant Professor of Practice |    46 |      66,106.5 |  68,461.5869565217391304347826  |\n",
      "|  Extension Educator              |    43 |      86,480.0 |  87,412.1395348837209302325581  |\n",
      "|  Asst Exten Educator             |    41 |      46,686.0 |  50,110.7560975609756097560976  |\n",
      "|  Staff Secy III                  |    40 |      31,467.5 |  31,389.1000000000000000000000  |\n",
      "|  Ag Rsch Technician I            |    39 |      27,534.0 |  29,592.3076923076923076923077  |\n",
      "|  Rsch Technologist II            |    38 |      42,201.5 |  42,368.8157894736842105263158  |\n",
      "|  Ag Rsch Technician III          |    38 |      40,916.5 |  41,310.5789473684210526315790  |\n",
      "|  Cler Asst III                   |    36 |      33,606.0 |  33,699.0555555555555555555556  |\n",
      "|  Assoc Exten Educator            |    34 |      56,504.0 |  57,107.3529411764705882352941  |\n",
      "|  Associate Director              |    33 |      85,256.0 |  84,660.1212121212121212121212  |\n",
      "|  Chairperson                     |    33 |     138,800.0 | 139,271.5454545454545454545455  |\n",
      "|  Exten Educator                  |    33 |      71,385.0 |  73,839.1212121212121212121212  |\n",
      "|  Staff Assistant                 |    32 |      35,012.0 |  35,045.7500000000000000000000  |\n",
      "|  Admin Support Assoc             |    31 |      35,852.0 |  37,964.0322580645161290322581  |\n",
      "|  Lecturer                        |    30 |      48,403.0 |  53,786.1666666666666666666667  |\n",
      "|  Research Assistant Professor    |    29 |      60,000.0 |  60,412.0344827586206896551724  |\n",
      "|  Dining Service Team Leader      |    27 |      28,898.0 |  31,158.9259259259259259259259  |\n",
      "|  Manager                         |    26 |      67,650.0 |  66,805.2307692307692307692308  |\n",
      "|  Department Head                 |    26 |     184,748.0 | 183,279.0769230769230769230769  |\n",
      "|  Business Manager                |    25 |      59,008.0 |  59,706.4800000000000000000000  |\n",
      "|  Sr Dining Service Associate     |    24 |      26,319.0 |  26,886.5000000000000000000000  |\n",
      "|  Coordinator                     |    23 |      59,356.0 |  71,418.2608695652173913043478  |\n",
      "|  Administrative Tech I           |    22 |      39,241.0 |  40,560.4090909090909090909091  |\n",
      "|  Associate Professor of Practice |    22 |      72,253.5 |  79,191.8636363636363636363636  |\n",
      "|  Rsch Asst Professor             |    22 |      62,844.5 |  65,182.5000000000000000000000  |\n",
      "|  Custodial Specialist            |    21 |      25,995.0 |  27,840.1428571428571428571429  |\n",
      "|  Police Officer                  |    21 |      53,830.0 |  54,060.9047619047619047619048  |\n",
      "|  Office Associate                |    20 |      29,954.5 |  30,998.4000000000000000000000  |\n",
      "|  Administrative Technician       |    19 |      33,594.0 |  33,098.1578947368421052631579  |\n",
      "|  Accounting Assoc                |    19 |      35,521.0 |  36,092.5263157894736842105263  |\n",
      "|  Accounting Technician           |    18 |      35,086.0 |  34,996.7222222222222222222222  |\n",
      "|  Project Manager                 |    18 |      59,889.0 |  58,241.5555555555555555555556  |\n",
      "|  Office Asst                     |    18 |      27,311.0 |  30,980.7222222222222222222222  |\n",
      "|  Residence Hall Custodial Leader |    17 |      29,888.0 |  30,440.7058823529411764705882  |\n",
      "|  Rsch Mgr Lab I                  |    17 |      49,575.0 |  51,431.4705882352941176470588  |\n",
      "|  Administrative Coordinator      |    16 |      40,955.0 |  40,730.0000000000000000000000  |\n",
      "|  ...                             |   ... |           ... |                            ...  |\n",
      "|----------------------------------+-------+---------------+---------------------------------|\n"
     ]
    }
   ],
   "source": [
    "sorted_jobs = jobs.order_by('count', reverse=True)\n",
    "sorted_jobs.print_table(max_rows=50)"
   ]
  },
  {
   "cell_type": "markdown",
   "metadata": {},
   "source": [
    "Being a full professor is a pretty good gig. But notice something about the jobs? Associate professor vs assoc professor? Same with assistant vs asst? That's a problem for another day. "
   ]
  }
 ],
 "metadata": {
  "kernelspec": {
   "display_name": "Python 3",
   "language": "python",
   "name": "python3"
  },
  "language_info": {
   "codemirror_mode": {
    "name": "ipython",
    "version": 3
   },
   "file_extension": ".py",
   "mimetype": "text/x-python",
   "name": "python",
   "nbconvert_exporter": "python",
   "pygments_lexer": "ipython3",
   "version": "3.5.1"
  }
 },
 "nbformat": 4,
 "nbformat_minor": 0
}
