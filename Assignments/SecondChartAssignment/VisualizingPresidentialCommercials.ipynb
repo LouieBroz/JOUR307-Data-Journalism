{
 "cells": [
  {
   "cell_type": "code",
   "execution_count": 1,
   "metadata": {
    "collapsed": true
   },
   "outputs": [],
   "source": [
    "import agate"
   ]
  },
  {
   "cell_type": "code",
   "execution_count": 2,
   "metadata": {
    "collapsed": true
   },
   "outputs": [],
   "source": [
    "commercials = agate.Table.from_csv('../../Data/commercials.csv')"
   ]
  },
  {
   "cell_type": "code",
   "execution_count": 3,
   "metadata": {
    "collapsed": false
   },
   "outputs": [
    {
     "name": "stdout",
     "output_type": "stream",
     "text": [
      "|----------------+---------------|\n",
      "|  column_names  | column_types  |\n",
      "|----------------+---------------|\n",
      "|  wp_identifier | Number        |\n",
      "|  network       | Text          |\n",
      "|  market        | Text          |\n",
      "|  location      | Text          |\n",
      "|  program       | Text          |\n",
      "|  program_type  | Text          |\n",
      "|  start_time    | Date          |\n",
      "|  end_time      | Date          |\n",
      "|  archive_id    | Text          |\n",
      "|  embed_url     | Text          |\n",
      "|  sponsor       | Text          |\n",
      "|  sponsor_type  | Text          |\n",
      "|  subject       | Text          |\n",
      "|  candidate     | Text          |\n",
      "|  type          | Text          |\n",
      "|  message       | Text          |\n",
      "|  air_count     | Number        |\n",
      "|  market_count  | Number        |\n",
      "|  date_created  | Date          |\n",
      "|----------------+---------------|\n",
      "\n"
     ]
    }
   ],
   "source": [
    "print(commercials)"
   ]
  },
  {
   "cell_type": "code",
   "execution_count": 16,
   "metadata": {
    "collapsed": true
   },
   "outputs": [],
   "source": [
    "commercials_with_months = commercials.compute([\n",
    "    ('month', agate.Formula(agate.Number(), lambda row: '%s' % row['start_time'].month))\n",
    "])"
   ]
  },
  {
   "cell_type": "code",
   "execution_count": 17,
   "metadata": {
    "collapsed": true
   },
   "outputs": [],
   "source": [
    "by_market = commercials_with_months.group_by('market')"
   ]
  },
  {
   "cell_type": "code",
   "execution_count": 18,
   "metadata": {
    "collapsed": true
   },
   "outputs": [],
   "source": [
    "by_market_by_month = by_market.group_by('month')"
   ]
  },
  {
   "cell_type": "code",
   "execution_count": 19,
   "metadata": {
    "collapsed": false
   },
   "outputs": [],
   "source": [
    "market_month_totals = by_market_by_month.aggregate([\n",
    "    ('count', agate.Length())\n",
    "])"
   ]
  },
  {
   "cell_type": "code",
   "execution_count": 20,
   "metadata": {
    "collapsed": false
   },
   "outputs": [],
   "source": [
    "market_month_totals = market_month_totals.order_by(lambda row: (row['market'], row['month']))"
   ]
  },
  {
   "cell_type": "code",
   "execution_count": 24,
   "metadata": {
    "collapsed": false
   },
   "outputs": [
    {
     "name": "stdout",
     "output_type": "stream",
     "text": [
      "|---------+-------+---------|\n",
      "|  market | month |  count  |\n",
      "|---------+-------+---------|\n",
      "|  BOS    |     1 |  9,820  |\n",
      "|  BOS    |     2 |  4,655  |\n",
      "|  BOS    |     3 |     67  |\n",
      "|  BOS    |    10 |      5  |\n",
      "|  BOS    |    11 |    589  |\n",
      "|  BOS    |    12 |  5,847  |\n",
      "|  CAE    |     1 |  2,056  |\n",
      "|  CAE    |     2 |  7,499  |\n",
      "|  CAE    |    12 |    109  |\n",
      "|  CID    |     1 | 10,820  |\n",
      "|  CID    |     2 |    611  |\n",
      "|  CID    |    10 |      4  |\n",
      "|  CID    |    11 |    471  |\n",
      "|  CID    |    12 |  3,848  |\n",
      "|  CLE    |     1 |    246  |\n",
      "|  CLE    |     2 |    287  |\n",
      "|  CLE    |     3 |      7  |\n",
      "|  CLT    |     2 |    134  |\n",
      "|  COS    |     1 |     15  |\n",
      "|  COS    |     2 |  1,088  |\n",
      "|  COS    |     3 |     70  |\n",
      "|  CVG    |     1 |    197  |\n",
      "|  CVG    |     2 |    344  |\n",
      "|  CVG    |     3 |     20  |\n",
      "|  DEN    |     1 |     28  |\n",
      "|  DEN    |     2 |  1,484  |\n",
      "|  DEN    |     3 |     62  |\n",
      "|  DSM    |     1 | 10,890  |\n",
      "|  DSM    |     2 |    707  |\n",
      "|  DSM    |     3 |      1  |\n",
      "|  DSM    |    10 |      6  |\n",
      "|  DSM    |    11 |    433  |\n",
      "|  DSM    |    12 |  3,827  |\n",
      "|  GSP    |     1 |  1,628  |\n",
      "|  GSP    |     2 |  6,351  |\n",
      "|  GSP    |    12 |     92  |\n",
      "|  LAS    |     1 |  1,793  |\n",
      "|  LAS    |     2 |  4,842  |\n",
      "|  LAS    |    12 |     24  |\n",
      "|  MCO    |     1 |     26  |\n",
      "|  MCO    |     2 |    206  |\n",
      "|  MCO    |     3 |     76  |\n",
      "|  MIA    |     1 |     42  |\n",
      "|  MIA    |     2 |    155  |\n",
      "|  MIA    |     3 |     27  |\n",
      "|  NYC    |     1 |     30  |\n",
      "|  NYC    |     2 |     25  |\n",
      "|  NYC    |     3 |      1  |\n",
      "|  NYC    |    11 |      1  |\n",
      "|  NYC    |    12 |     33  |\n",
      "|  ORF    |     1 |     19  |\n",
      "|  ORF    |     2 |    666  |\n",
      "|  ORF    |     3 |    139  |\n",
      "|  PHL    |     1 |     53  |\n",
      "|  PHL    |     2 |     51  |\n",
      "|  PHL    |     3 |      6  |\n",
      "|  PHL    |    11 |      4  |\n",
      "|  PHL    |    12 |    113  |\n",
      "|  RDU    |     1 |     12  |\n",
      "|  RDU    |     2 |    351  |\n",
      "|  RDU    |     3 |     30  |\n",
      "|  RNO    |     1 |  2,042  |\n",
      "|  RNO    |     2 |  3,781  |\n",
      "|  RNO    |     3 |      1  |\n",
      "|  ROA    |     1 |      5  |\n",
      "|  ROA    |     2 |    313  |\n",
      "|  ROA    |     3 |     37  |\n",
      "|  SF     |     1 |  1,977  |\n",
      "|  SF     |     2 |  1,791  |\n",
      "|  SF     |     3 |     63  |\n",
      "|  SF     |    10 |      3  |\n",
      "|  SF     |    11 |    139  |\n",
      "|  SF     |    12 |  1,229  |\n",
      "|  SUX    |     1 |  8,981  |\n",
      "|  SUX    |     2 |    637  |\n",
      "|  SUX    |    11 |    166  |\n",
      "|  SUX    |    12 |  2,857  |\n",
      "|  TPA    |     1 |     33  |\n",
      "|  TPA    |     2 |    226  |\n",
      "|  TPA    |     3 |     62  |\n",
      "|  VA     |     1 |     23  |\n",
      "|  VA     |     2 |    658  |\n",
      "|  VA     |     3 |     61  |\n",
      "|  VA     |    11 |      1  |\n",
      "|  VA     |    12 |     29  |\n",
      "|---------+-------+---------|\n"
     ]
    }
   ],
   "source": [
    "market_month_totals.print_table()"
   ]
  },
  {
   "cell_type": "code",
   "execution_count": null,
   "metadata": {
    "collapsed": true
   },
   "outputs": [],
   "source": []
  }
 ],
 "metadata": {
  "kernelspec": {
   "display_name": "Python 3",
   "language": "python",
   "name": "python3"
  },
  "language_info": {
   "codemirror_mode": {
    "name": "ipython",
    "version": 3
   },
   "file_extension": ".py",
   "mimetype": "text/x-python",
   "name": "python",
   "nbconvert_exporter": "python",
   "pygments_lexer": "ipython3",
   "version": "3.5.1"
  }
 },
 "nbformat": 4,
 "nbformat_minor": 0
}
