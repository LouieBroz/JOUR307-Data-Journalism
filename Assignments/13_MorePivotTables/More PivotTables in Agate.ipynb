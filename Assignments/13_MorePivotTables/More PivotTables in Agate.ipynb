{
 "cells": [
  {
   "cell_type": "markdown",
   "metadata": {},
   "source": [
    "# Percents of total\n",
    "\n",
    "Often times the count isn't what you want, it's the percents of the total. Luckily, the code is simple."
   ]
  },
  {
   "cell_type": "code",
   "execution_count": 1,
   "metadata": {
    "collapsed": true
   },
   "outputs": [],
   "source": [
    "import agate\n",
    "\n",
    "import warnings\n",
    "warnings.filterwarnings('ignore')"
   ]
  },
  {
   "cell_type": "code",
   "execution_count": 2,
   "metadata": {
    "collapsed": true
   },
   "outputs": [],
   "source": [
    "surveys = agate.Table.from_csv('../../Data/QSA_1996_2016.csv')"
   ]
  },
  {
   "cell_type": "code",
   "execution_count": 3,
   "metadata": {},
   "outputs": [
    {
     "name": "stdout",
     "output_type": "stream",
     "text": [
      "| column | data_type |\n",
      "| ------ | --------- |\n",
      "| DATE   | Date      |\n",
      "| RKY    | Text      |\n",
      "| DVC    | Text      |\n",
      "| NATR   | Text      |\n",
      "| Q1     | Text      |\n",
      "| Q2     | Text      |\n",
      "| Q3     | Text      |\n",
      "| Q4     | Text      |\n",
      "| Q5     | Text      |\n",
      "| Q6     | Text      |\n",
      "| Q9     | Text      |\n",
      "| Q17    | Text      |\n",
      "| AGE    | Number    |\n",
      "| RACE   | Text      |\n",
      "| SEX    | Text      |\n",
      "| ZIP    | Text      |\n",
      "| FID    | Number    |\n",
      "\n"
     ]
    }
   ],
   "source": [
    "print(surveys)"
   ]
  },
  {
   "cell_type": "code",
   "execution_count": 4,
   "metadata": {},
   "outputs": [
    {
     "name": "stdout",
     "output_type": "stream",
     "text": [
      "78134\n"
     ]
    }
   ],
   "source": [
    "print(len(surveys.rows))"
   ]
  },
  {
   "cell_type": "markdown",
   "metadata": {},
   "source": [
    "Here is the pivot you have done."
   ]
  },
  {
   "cell_type": "code",
   "execution_count": 5,
   "metadata": {
    "collapsed": true
   },
   "outputs": [],
   "source": [
    "by_race = surveys.pivot('RACE', 'Q17')"
   ]
  },
  {
   "cell_type": "code",
   "execution_count": 6,
   "metadata": {},
   "outputs": [
    {
     "name": "stdout",
     "output_type": "stream",
     "text": [
      "| RACE |      2 |      1 |      3 |     4 |  None |     5 |   U |\n",
      "| ---- | ------ | ------ | ------ | ----- | ----- | ----- | --- |\n",
      "| W    | 22,099 | 24,088 | 15,395 | 2,532 | 1,723 | 1,895 | 601 |\n",
      "| B    |  1,100 |  1,299 |  1,261 |   234 |   331 |   312 |  68 |\n",
      "| H    |    540 |    680 |    649 |    90 |   155 |    97 |  32 |\n",
      "| A    |    181 |    191 |    176 |    33 |    65 |    17 |  19 |\n",
      "| U    |    149 |    150 |    144 |    30 |    33 |    16 |  23 |\n",
      "|      |    363 |    465 |    159 |    16 |    24 |     7 |  12 |\n",
      "| I    |    179 |    184 |    192 |    38 |    37 |    37 |   8 |\n",
      "| w    |      0 |      0 |      1 |     0 |     0 |     0 |   0 |\n",
      "| ¿    |      0 |      0 |      0 |     0 |     1 |     0 |   0 |\n",
      "| 0    |      0 |      1 |      0 |     0 |     0 |     0 |   0 |\n",
      "| C    |      0 |      1 |      0 |     0 |     0 |     0 |   0 |\n",
      "| WE   |      0 |      1 |      0 |     0 |     0 |     0 |   0 |\n"
     ]
    }
   ],
   "source": [
    "by_race.print_table(max_columns=8)"
   ]
  },
  {
   "cell_type": "markdown",
   "metadata": {},
   "source": [
    "Here is what it looks like with percents."
   ]
  },
  {
   "cell_type": "code",
   "execution_count": 18,
   "metadata": {},
   "outputs": [],
   "source": [
    "percents = surveys.pivot(['RACE', 'Q17'], computation=agate.Percent('Count'))"
   ]
  },
  {
   "cell_type": "code",
   "execution_count": 19,
   "metadata": {},
   "outputs": [
    {
     "name": "stdout",
     "output_type": "stream",
     "text": [
      "| RACE | Q17 | Percent |\n",
      "| ---- | --- | ------- |\n",
      "| W    | 2   | 28.283… |\n",
      "| W    | 1   | 30.829… |\n",
      "| W    | 3   | 19.703… |\n",
      "| W    | 4   |  3.241… |\n",
      "| W    |     |  2.205… |\n",
      "| W    | 5   |  2.425… |\n",
      "| W    | U   |  0.769… |\n",
      "| B    | 1   |  1.663… |\n",
      "| B    | 5   |  0.399… |\n",
      "| B    | 4   |  0.299… |\n",
      "| B    |     |  0.424… |\n",
      "| B    | 2   |  1.408… |\n",
      "| B    | 3   |  1.614… |\n",
      "| B    | U   |  0.087… |\n",
      "| H    | 2   |  0.691… |\n",
      "| H    | 1   |  0.870… |\n",
      "| H    | 3   |  0.831… |\n",
      "| H    |     |  0.198… |\n",
      "| H    | 5   |  0.124… |\n",
      "| H    | U   |  0.041… |\n",
      "| ...  | ... |     ... |\n"
     ]
    }
   ],
   "source": [
    "percents.print_table()"
   ]
  },
  {
   "cell_type": "code",
   "execution_count": null,
   "metadata": {
    "collapsed": true
   },
   "outputs": [],
   "source": []
  }
 ],
 "metadata": {
  "kernelspec": {
   "display_name": "Python 3",
   "language": "python",
   "name": "python3"
  },
  "language_info": {
   "codemirror_mode": {
    "name": "ipython",
    "version": 3
   },
   "file_extension": ".py",
   "mimetype": "text/x-python",
   "name": "python",
   "nbconvert_exporter": "python",
   "pygments_lexer": "ipython3",
   "version": "3.6.1"
  }
 },
 "nbformat": 4,
 "nbformat_minor": 2
}
