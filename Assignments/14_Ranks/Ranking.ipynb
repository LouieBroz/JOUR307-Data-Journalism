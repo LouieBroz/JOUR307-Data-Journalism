{
 "cells": [
  {
   "cell_type": "markdown",
   "metadata": {},
   "source": [
    "# Ranking things\n",
    "\n",
    "Let's look at the county population estimates data again. Instead of just showing which population is changing and sorting it, this time we're going to rank them. Your Third Agate Assignment is the percent change assignment, and the code is the same up to a point."
   ]
  },
  {
   "cell_type": "code",
   "execution_count": 1,
   "metadata": {
    "collapsed": true
   },
   "outputs": [],
   "source": [
    "import agate\n",
    "\n",
    "import warnings\n",
    "warnings.filterwarnings('ignore')"
   ]
  },
  {
   "cell_type": "code",
   "execution_count": 2,
   "metadata": {
    "collapsed": true
   },
   "outputs": [],
   "source": [
    "population = agate.Table.from_csv('../../Data/population.csv')"
   ]
  },
  {
   "cell_type": "code",
   "execution_count": 3,
   "metadata": {
    "collapsed": true
   },
   "outputs": [],
   "source": [
    "change = population.compute([\n",
    "    ('change10-16', agate.PercentChange('POPESTIMATE2010', 'POPESTIMATE2016')),\n",
    "    ('change15-16', agate.PercentChange('POPESTIMATE2015', 'POPESTIMATE2016'))\n",
    "])"
   ]
  },
  {
   "cell_type": "code",
   "execution_count": 4,
   "metadata": {
    "collapsed": true
   },
   "outputs": [],
   "source": [
    "change_ranked = change.compute([\n",
    "    ('rank', agate.Rank('change10-16'))\n",
    "])"
   ]
  },
  {
   "cell_type": "code",
   "execution_count": 8,
   "metadata": {},
   "outputs": [
    {
     "name": "stdout",
     "output_type": "stream",
     "text": [
      "| CTYNAME           | STNAME         | change10-16 | rank |\n",
      "| ----------------- | -------------- | ----------- | ---- |\n",
      "| Alexander County  | Illinois       |    -21.135… |    1 |\n",
      "| Terrell County    | Texas          |    -19.524… |    2 |\n",
      "| Lee County        | Kentucky       |    -14.623… |    3 |\n",
      "| Butte County      | Idaho          |    -13.966… |    4 |\n",
      "| McDowell County   | West Virginia  |    -13.295… |    5 |\n",
      "| Schleicher County | Texas          |    -12.661… |    6 |\n",
      "| Allendale County  | South Carolina |    -12.558… |    7 |\n",
      "| Phillips County   | Arkansas       |    -12.437… |    8 |\n",
      "| Ontonagon County  | Michigan       |    -12.430… |    9 |\n",
      "| Clark County      | Idaho          |    -12.155… |   10 |\n",
      "| ...               | ...            |         ... |  ... |\n"
     ]
    }
   ],
   "source": [
    "change_ranked.select(['CTYNAME', 'STNAME', 'change10-16', 'rank']).order_by('rank').print_table(max_rows=10)"
   ]
  },
  {
   "cell_type": "markdown",
   "metadata": {},
   "source": [
    "What if we just wanted to see Nebraska? We can just chain a filter into the mix."
   ]
  },
  {
   "cell_type": "code",
   "execution_count": 9,
   "metadata": {},
   "outputs": [
    {
     "name": "stdout",
     "output_type": "stream",
     "text": [
      "| CTYNAME          | STNAME   | change10-16 | rank |\n",
      "| ---------------- | -------- | ----------- | ---- |\n",
      "| Dundy County     | Nebraska |     -8.815… |   44 |\n",
      "| Rock County      | Nebraska |     -8.069… |   72 |\n",
      "| McPherson County | Nebraska |     -8.022… |   73 |\n",
      "| Garden County    | Nebraska |     -7.212… |  104 |\n",
      "| Franklin County  | Nebraska |     -6.745… |  131 |\n",
      "| Brown County     | Nebraska |     -6.002… |  190 |\n",
      "| Hayes County     | Nebraska |     -5.975… |  192 |\n",
      "| Wheeler County   | Nebraska |     -5.825… |  205 |\n",
      "| Clay County      | Nebraska |     -5.779… |  210 |\n",
      "| Boyd County      | Nebraska |     -5.754… |  212 |\n",
      "| ...              | ...      |         ... |  ... |\n"
     ]
    }
   ],
   "source": [
    "nebraska = change_ranked.where(lambda row: row['STNAME'] == \"Nebraska\").select(['CTYNAME', 'STNAME', 'change10-16', 'rank']).order_by('rank').print_table(max_rows=10)"
   ]
  },
  {
   "cell_type": "markdown",
   "metadata": {},
   "source": [
    "What if we wanted to see it ranked the other way? We can add `reverse=True` to the rank."
   ]
  },
  {
   "cell_type": "code",
   "execution_count": 11,
   "metadata": {
    "collapsed": true
   },
   "outputs": [],
   "source": [
    "reverse_change_ranked = change.compute([\n",
    "    ('rank', agate.Rank('change10-16', reverse=True))\n",
    "])"
   ]
  },
  {
   "cell_type": "code",
   "execution_count": 12,
   "metadata": {},
   "outputs": [
    {
     "name": "stdout",
     "output_type": "stream",
     "text": [
      "| CTYNAME          | STNAME   | change10-16 | rank |\n",
      "| ---------------- | -------- | ----------- | ---- |\n",
      "| Banner County    | Nebraska |     14.655… |   66 |\n",
      "| Sarpy County     | Nebraska |     12.057… |  120 |\n",
      "| Thomas County    | Nebraska |     10.154… |  168 |\n",
      "| Lancaster County | Nebraska |      8.191… |  269 |\n",
      "| Douglas County   | Nebraska |      7.002… |  351 |\n",
      "| Buffalo County   | Nebraska |      6.941… |  355 |\n",
      "| Hall County      | Nebraska |      4.910… |  530 |\n",
      "| Grant County     | Nebraska |      4.568… |  568 |\n",
      "| Seward County    | Nebraska |      2.893… |  814 |\n",
      "| Howard County    | Nebraska |      2.569… |  858 |\n",
      "| ...              | ...      |         ... |  ... |\n"
     ]
    }
   ],
   "source": [
    "nebraska = reverse_change_ranked.where(lambda row: row['STNAME'] == \"Nebraska\").select(['CTYNAME', 'STNAME', 'change10-16', 'rank']).order_by('rank').print_table(max_rows=10)"
   ]
  },
  {
   "cell_type": "code",
   "execution_count": null,
   "metadata": {
    "collapsed": true
   },
   "outputs": [],
   "source": []
  }
 ],
 "metadata": {
  "kernelspec": {
   "display_name": "Python 3",
   "language": "python",
   "name": "python3"
  },
  "language_info": {
   "codemirror_mode": {
    "name": "ipython",
    "version": 3
   },
   "file_extension": ".py",
   "mimetype": "text/x-python",
   "name": "python",
   "nbconvert_exporter": "python",
   "pygments_lexer": "ipython3",
   "version": "3.6.1"
  }
 },
 "nbformat": 4,
 "nbformat_minor": 2
}
